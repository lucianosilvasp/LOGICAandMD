{
  "nbformat": 4,
  "nbformat_minor": 0,
  "metadata": {
    "colab": {
      "provenance": [],
      "include_colab_link": true
    },
    "kernelspec": {
      "name": "python3",
      "display_name": "Python 3"
    },
    "language_info": {
      "name": "python"
    }
  },
  "cells": [
    {
      "cell_type": "markdown",
      "metadata": {
        "id": "view-in-github",
        "colab_type": "text"
      },
      "source": [
        "<a href=\"https://colab.research.google.com/github/lucianosilvasp/LOGICAandMD/blob/main/LOGIC%2BDISCRETEMATH_CLASS_08.ipynb\" target=\"_parent\"><img src=\"https://colab.research.google.com/assets/colab-badge.svg\" alt=\"Open In Colab\"/></a>"
      ]
    },
    {
      "cell_type": "markdown",
      "source": [
        "<div class=\"alert alert-block alert-info\">\n",
        "\n",
        "#**CLASS 08 - TYPE THEORY - PART II**\n",
        "**Learning Objectives:**\n",
        "* ALGEBRAIC SPECIFICATION OF DATA TYPES\n",
        "* IMPLEMENTATION OF ALGEBRAIC SPECIFICATION\n"
      ],
      "metadata": {
        "id": "33EEpDW7pOaO"
      }
    },
    {
      "cell_type": "markdown",
      "source": [
        "**ALGEBRAIC SPECIFICATION OF DATA TYPES**\n",
        "\n",
        "Algebraic specifications provide a mathematical framework for describing abstract data types (ADT). This framework offers:\n",
        "\n",
        "* language independence,\n",
        "* implementation independence,\n",
        "* specification of required types and operations thereon, and\n",
        "* specification of semantics of operations.\n",
        "\n",
        "The syntatic part of an algebraic specification is called a **presentation**. A presentation if formed by sorts, operations and axioms. Let us consider an algebraic specification of the Nat data type:\n",
        "\n",
        "**SPEC** NAT\n",
        "\n",
        "**SORTS** NAT\n",
        "\n",
        "**OPERATIONS**\n",
        "\n",
        "    new: -> NAT\n",
        "\n",
        "    suc: NAT -> NAT\n",
        "\n",
        "    add: NAT NAT -> NAT\n",
        "\n",
        "**AXIOMS**\n",
        "\n",
        "    add(x,suc(y))=suc(add(x,y)) ∀x,y∈ NAT"
      ],
      "metadata": {
        "id": "bR0VEroxclwf"
      }
    },
    {
      "cell_type": "markdown",
      "source": [
        "In this specification we have three operations:\n",
        "\n",
        "* the creation operation new, which produces a new NAT\n",
        "* the sucessor operation suc(x) = x+1\n",
        "* the add operation add(x,y)=x+y\n",
        "\n",
        "Besides we have an axiom relating the operations add and suc. This axioma states that add(x,suc(y))=x+suc(y)= x+(y+1)= (x+y)+1= suc(x+y)=suc(add(x,y)).\n",
        "\n",
        "Observe that in this specification, we do not know how the operations new, suc and add are implemented. But, following the axiom, we have a rule over suc and add.\n",
        "\n",
        "Let's implement this specification:"
      ],
      "metadata": {
        "id": "qZcasUjp2nTk"
      }
    },
    {
      "cell_type": "code",
      "source": [
        "from dataclasses import dataclass\n",
        "\n",
        "\n",
        "@dataclass\n",
        "class NAT:\n",
        "\n",
        "    def __init__(self,num):\n",
        "    #operation new\n",
        "      self.num=num\n",
        "\n",
        "    def suc(nat):\n",
        "      return NAT (nat.num+1)\n",
        "\n",
        "    def add(nat1,nat2):\n",
        "      return NAT (nat1.num+nat2.num)"
      ],
      "metadata": {
        "id": "N93MFTDoc0qZ"
      },
      "execution_count": null,
      "outputs": []
    },
    {
      "cell_type": "code",
      "source": [
        "x=NAT(2)\n",
        "y=NAT(3)\n",
        "\n",
        "assert NAT.add(x,NAT.suc(y)).num==NAT.suc(NAT.add(x,y)).num"
      ],
      "metadata": {
        "id": "ZTTEo9cs75NA"
      },
      "execution_count": null,
      "outputs": []
    },
    {
      "cell_type": "markdown",
      "source": [
        "**EXERCISE 1**\n",
        "\n",
        "Provide an algebraic specification for INTEGER and implement it in Python."
      ],
      "metadata": {
        "id": "REGXEDJ5k_g-"
      }
    },
    {
      "cell_type": "code",
      "source": [
        "from dataclasses import dataclass\n",
        "\n",
        "\n",
        "@dataclass\n",
        "class INTEGER:\n",
        "\n",
        "    def __init__(self,num):\n",
        "    #operation new\n",
        "      self.num=num\n",
        "\n",
        "    def suc(self):\n",
        "      return INTEGER (self.num+1)\n",
        "\n",
        "    def add(self,oint:INTEGER)->INTEGER:\n",
        "      return INTEGER (self.num+oint.num)"
      ],
      "metadata": {
        "id": "ctMP4a79lnB4"
      },
      "execution_count": 8,
      "outputs": []
    },
    {
      "cell_type": "code",
      "source": [
        "a=INTEGER(2)\n",
        "b=INTEGER(3)\n",
        "print(a.add(b))\n",
        "\n"
      ],
      "metadata": {
        "id": "3lMMJtwb0bgx",
        "outputId": "ab8a2df2-e341-4db3-ceab-b3e6ffd579e0",
        "colab": {
          "base_uri": "https://localhost:8080/"
        }
      },
      "execution_count": 9,
      "outputs": [
        {
          "output_type": "stream",
          "name": "stdout",
          "text": [
            "INTEGER()\n"
          ]
        }
      ]
    },
    {
      "cell_type": "markdown",
      "source": [
        "**EXERCISE 2**\n",
        "\n",
        "Provide an algebraic specification for REAL and implement it in Python."
      ],
      "metadata": {
        "id": "J-HiAG7qlwfh"
      }
    },
    {
      "cell_type": "code",
      "source": [],
      "metadata": {
        "id": "rO2F47rRl2Na"
      },
      "execution_count": null,
      "outputs": []
    },
    {
      "cell_type": "markdown",
      "source": [
        "**EXERCISE 3**\n",
        "\n",
        "Provide an algebraic specification for COMPLEX and implement it in Python."
      ],
      "metadata": {
        "id": "E2fSAXmWl38g"
      }
    },
    {
      "cell_type": "code",
      "source": [],
      "metadata": {
        "id": "RJ4AgilzmCP8"
      },
      "execution_count": null,
      "outputs": []
    },
    {
      "cell_type": "markdown",
      "source": [
        "**EXERCISE 4**\n",
        "\n",
        "Provide an algebraic specification for BOOLEAN and implement it in Python."
      ],
      "metadata": {
        "id": "yIWOTR6ymETE"
      }
    },
    {
      "cell_type": "code",
      "source": [],
      "metadata": {
        "id": "D1nEFHOUmKCn"
      },
      "execution_count": null,
      "outputs": []
    },
    {
      "cell_type": "markdown",
      "source": [
        "**HOMEWORK**"
      ],
      "metadata": {
        "id": "qBO-FfvomdeC"
      }
    },
    {
      "cell_type": "markdown",
      "source": [
        "**EXERCISE 1**\n",
        "\n",
        "Provide an algebraic specification for QUATERNION and implement it in Python."
      ],
      "metadata": {
        "id": "uzgJ4HJVmgeT"
      }
    },
    {
      "cell_type": "code",
      "source": [],
      "metadata": {
        "id": "1HuSpmi2moQD"
      },
      "execution_count": null,
      "outputs": []
    },
    {
      "cell_type": "markdown",
      "source": [
        "**EXERCISE 2**\n",
        "\n",
        "Provide an algebraic specification for CHAR and implement it in Python."
      ],
      "metadata": {
        "id": "ldHOw9Y1mpDX"
      }
    },
    {
      "cell_type": "code",
      "source": [],
      "metadata": {
        "id": "M4upgaM4m39g"
      },
      "execution_count": null,
      "outputs": []
    }
  ]
}