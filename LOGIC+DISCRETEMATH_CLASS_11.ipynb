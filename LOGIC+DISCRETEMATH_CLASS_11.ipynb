{
  "nbformat": 4,
  "nbformat_minor": 0,
  "metadata": {
    "colab": {
      "provenance": [],
      "include_colab_link": true
    },
    "kernelspec": {
      "name": "python3",
      "display_name": "Python 3"
    },
    "language_info": {
      "name": "python"
    }
  },
  "cells": [
    {
      "cell_type": "markdown",
      "metadata": {
        "id": "view-in-github",
        "colab_type": "text"
      },
      "source": [
        "<a href=\"https://colab.research.google.com/github/lucianosilvasp/LOGICAandMD/blob/main/LOGIC%2BDISCRETEMATH_CLASS_11.ipynb\" target=\"_parent\"><img src=\"https://colab.research.google.com/assets/colab-badge.svg\" alt=\"Open In Colab\"/></a>"
      ]
    },
    {
      "cell_type": "markdown",
      "source": [
        "<div class=\"alert alert-block alert-info\">\n",
        "\n",
        "#**CLASS 11 - TYPE THEORY - PART V**\n",
        "**Learning Objectives:**\n",
        "* REVIEW THE PRINCIPLE OF MATHEMATICAL INDUCTION AND Z3-SOLVER\n",
        "* APPLY THEM IN PROOFS OF RECURSIVE PROGRAMS\n"
      ],
      "metadata": {
        "id": "33EEpDW7pOaO"
      }
    },
    {
      "cell_type": "markdown",
      "source": [
        "**PRINCIPLE OF MATHEMATICAL INDUCTION REVIEW**\n",
        "\n",
        "The principle of mathematical induction (often referred to as induction, sometimes referred to as PMI in books) is a fundamental proof technique. It is especially useful when proving that a statement is true for all positive integers.\n",
        "\n",
        "Let's say you have a statement P(n) that depends on a positive integer n and you have to prove that this statement holds for all positive integers n. How would you do that?\n",
        "\n",
        "*   At first you prove that P(k) is true where k is the starting value of your statement\n",
        "*   Then you show that if the statement is true for any arbitrary positive integer x, then it is true for x+1\n",
        "\n",
        "Now that we've gotten a little bit familiar with the idea of proof by induction, let's rewrite everything we learned a little more formally:\n",
        "\n",
        "* **Step 1 (Prove the base case):**  This is the part where you prove that P(k) is true if k is the starting value of your statement. The base case is usually showing that our statement is true when n=k.\n",
        "\n",
        "* **Step 2 (The inductive step):** This is where you assume that P(x) is true for some positive integer x. This assumption is called the inductive hypothesis. Then you show that if P(x) were true, so is P(x+1). This is the inductive step.\n",
        "\n",
        "In short, the inductive step usually means showing that **P(x)⟹P(x+1)**.\n"
      ],
      "metadata": {
        "id": "bR0VEroxclwf"
      }
    },
    {
      "cell_type": "markdown",
      "source": [
        "**REVIEW OF Z3-SOLVER**\n",
        "\n",
        "Prove that $\\sum_{i=0}^n i = 1+2+3+...+n = \\frac{n(n+1)}{2}$."
      ],
      "metadata": {
        "id": "LadB99vAxeg1"
      }
    },
    {
      "cell_type": "code",
      "source": [
        "!pip install z3-solver"
      ],
      "metadata": {
        "id": "1YvM60Pfx69z"
      },
      "execution_count": null,
      "outputs": []
    },
    {
      "cell_type": "code",
      "source": [
        "from z3 import *\n",
        "\n",
        "#defining sumn\n",
        "n = Int(\"n\")\n",
        "sumn = Function(\"sumn\", IntSort(), IntSort())\n",
        "s = Solver()\n",
        "s.add(sumn(0) == 0)\n",
        "s.add(ForAll([n], sumn(n+1) == (n + 1) + sumn(n)))\n",
        "\n",
        "#try to find a counterexample of the sum\n",
        "s.add(Not(ForAll([n], Implies(n >= 0, 2 * sumn(n) == n * (n + 1)))))\n",
        "s.check()"
      ],
      "metadata": {
        "id": "RYnoRTJux_qr"
      },
      "execution_count": null,
      "outputs": []
    },
    {
      "cell_type": "markdown",
      "source": [
        "**EXERCISE 1**\n",
        "\n",
        "Prove the following Python function  computes n! :"
      ],
      "metadata": {
        "id": "LuUDP18TdiZW"
      }
    },
    {
      "cell_type": "code",
      "source": [
        "def fact(n):\n",
        "  if n==0:\n",
        "    return 1\n",
        "  else:\n",
        "    return n*fact(n-1)"
      ],
      "metadata": {
        "id": "IG7Qsd2Ydpaa"
      },
      "execution_count": null,
      "outputs": []
    },
    {
      "cell_type": "code",
      "source": [
        "fact(5)"
      ],
      "metadata": {
        "id": "9QEj1MWVyWED"
      },
      "execution_count": null,
      "outputs": []
    },
    {
      "cell_type": "code",
      "source": [
        "#TYPE YOUR SOLUTION HERE"
      ],
      "metadata": {
        "id": "3rR1MuczyjK3"
      },
      "execution_count": null,
      "outputs": []
    },
    {
      "cell_type": "markdown",
      "source": [
        "**EXERCISE 2**\n",
        "\n",
        "Prove the following Python function computes the nth Fibonacci number:"
      ],
      "metadata": {
        "id": "aeoghaYtcQYd"
      }
    },
    {
      "cell_type": "code",
      "source": [
        "def fib(n):\n",
        "  if n==0 or n==1:\n",
        "    return 1\n",
        "  else:\n",
        "    return fib(n-1)+fib(n-2)"
      ],
      "metadata": {
        "id": "FpH0j-Ylcc5C"
      },
      "execution_count": null,
      "outputs": []
    },
    {
      "cell_type": "code",
      "source": [
        "fib(5)"
      ],
      "metadata": {
        "id": "Sv4hPF71yh7R"
      },
      "execution_count": null,
      "outputs": []
    },
    {
      "cell_type": "code",
      "source": [
        "#TYPE YOUR SOLUTION HERE"
      ],
      "metadata": {
        "id": "Eh5i9iuUymFS"
      },
      "execution_count": null,
      "outputs": []
    },
    {
      "cell_type": "markdown",
      "source": [
        "How many arithmetical operations are used to evaluate fib(n) ?"
      ],
      "metadata": {
        "id": "wB95Dd5ic2OD"
      }
    },
    {
      "cell_type": "code",
      "source": [
        "#TYPE YOUR IMPLEMENTATION HERE"
      ],
      "metadata": {
        "id": "VwfiJGVoc5Y2"
      },
      "execution_count": null,
      "outputs": []
    },
    {
      "cell_type": "markdown",
      "source": [
        "**EXERCISE 3**\n",
        "\n",
        "Consider the following implementation of Mergesort in Python:"
      ],
      "metadata": {
        "id": "pphwrVdIrqnv"
      }
    },
    {
      "cell_type": "code",
      "source": [
        "def merge(left, right):\n",
        "    \"\"\"Merge sort merging function.\"\"\"\n",
        "\n",
        "    left_index, right_index = 0, 0\n",
        "    result = []\n",
        "    while left_index < len(left) and right_index < len(right):\n",
        "        if left[left_index] < right[right_index]:\n",
        "            result.append(left[left_index])\n",
        "            left_index += 1\n",
        "        else:\n",
        "            result.append(right[right_index])\n",
        "            right_index += 1\n",
        "\n",
        "    result += left[left_index:]\n",
        "    result += right[right_index:]\n",
        "    return result\n",
        "\n",
        "\n",
        "def merge_sort(array):\n",
        "    \"\"\"Merge sort algorithm implementation.\"\"\"\n",
        "\n",
        "    if len(array) <= 1:  # base case\n",
        "        return array\n",
        "\n",
        "    # divide array in half and merge sort recursively\n",
        "    half = len(array) // 2\n",
        "    left = merge_sort(array[:half])\n",
        "    right = merge_sort(array[half:])\n",
        "\n",
        "    return merge(left, right)\n",
        "\n",
        "merge_sort([2,-1,4,0,6,-3])"
      ],
      "metadata": {
        "colab": {
          "base_uri": "https://localhost:8080/"
        },
        "id": "7ZrGvVQfrtB8",
        "outputId": "44bfc64b-0ee7-47c6-b407-9b82d7b6df74"
      },
      "execution_count": null,
      "outputs": [
        {
          "output_type": "execute_result",
          "data": {
            "text/plain": [
              "[-3, -1, 0, 2, 4, 6]"
            ]
          },
          "metadata": {},
          "execution_count": 6
        }
      ]
    },
    {
      "cell_type": "markdown",
      "source": [
        "Prove that it sorts a n-integer array."
      ],
      "metadata": {
        "id": "5iUeHWGpsqzy"
      }
    },
    {
      "cell_type": "code",
      "source": [
        "#TYPE YOUR IMPLEMENTATION HERE"
      ],
      "metadata": {
        "id": "Dwum99Shs0oB"
      },
      "execution_count": null,
      "outputs": []
    },
    {
      "cell_type": "markdown",
      "source": [
        "**HOMEWORK**\n",
        "\n",
        "Consider the following implementation of Quicksort in Python:"
      ],
      "metadata": {
        "id": "4q8b_33ttfY7"
      }
    },
    {
      "cell_type": "code",
      "source": [
        "def partition(array, start, end):\n",
        "    pivot = array[start]\n",
        "    low = start + 1\n",
        "    high = end\n",
        "\n",
        "    while True:\n",
        "        # If the current value we're looking at is larger than the pivot\n",
        "        # it's in the right place (right side of pivot) and we can move left,\n",
        "        # to the next element.\n",
        "        # We also need to make sure we haven't surpassed the low pointer, since that\n",
        "        # indicates we have already moved all the elements to their correct side of the pivot\n",
        "        while low <= high and array[high] >= pivot:\n",
        "            high = high - 1\n",
        "\n",
        "        # Opposite process of the one above\n",
        "        while low <= high and array[low] <= pivot:\n",
        "            low = low + 1\n",
        "\n",
        "        # We either found a value for both high and low that is out of order\n",
        "        # or low is higher than high, in which case we exit the loop\n",
        "        if low <= high:\n",
        "            array[low], array[high] = array[high], array[low]\n",
        "            # The loop continues\n",
        "        else:\n",
        "            # We exit out of the loop\n",
        "            break\n",
        "\n",
        "    array[start], array[high] = array[high], array[start]\n",
        "\n",
        "    return high\n",
        "\n",
        "\n",
        "def quick_sort(array, start, end):\n",
        "    if start >= end:\n",
        "        return\n",
        "\n",
        "    p = partition(array, start, end)\n",
        "    quick_sort(array, start, p-1)\n",
        "    quick_sort(array, p+1, end)\n"
      ],
      "metadata": {
        "id": "WRfTgDJzu9W3"
      },
      "execution_count": null,
      "outputs": []
    },
    {
      "cell_type": "code",
      "source": [
        "\n",
        "array = [29,99,27,41,66,28,44,78,87,19,31,76,58,88,83,97,12,21,44]\n",
        "quick_sort(array, 0, len(array) - 1)\n",
        "print(array)"
      ],
      "metadata": {
        "id": "LmWSraLlzErr"
      },
      "execution_count": null,
      "outputs": []
    },
    {
      "cell_type": "markdown",
      "source": [
        "Prove that it sorts a n-integer array."
      ],
      "metadata": {
        "id": "Ve7T0072vf1K"
      }
    },
    {
      "cell_type": "code",
      "source": [
        "#TYPE YOUR IMPLEMENTATION HERE"
      ],
      "metadata": {
        "id": "7eDW3vq8vkp9"
      },
      "execution_count": null,
      "outputs": []
    }
  ]
}