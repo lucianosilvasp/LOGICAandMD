{
  "nbformat": 4,
  "nbformat_minor": 0,
  "metadata": {
    "colab": {
      "provenance": [],
      "include_colab_link": true
    },
    "kernelspec": {
      "name": "python3",
      "display_name": "Python 3"
    },
    "language_info": {
      "name": "python"
    }
  },
  "cells": [
    {
      "cell_type": "markdown",
      "metadata": {
        "id": "view-in-github",
        "colab_type": "text"
      },
      "source": [
        "<a href=\"https://colab.research.google.com/github/lucianosilvasp/LOGICAandMD/blob/main/LOGIC%2BDISCRETEMATH_CLASS_10.ipynb\" target=\"_parent\"><img src=\"https://colab.research.google.com/assets/colab-badge.svg\" alt=\"Open In Colab\"/></a>"
      ]
    },
    {
      "cell_type": "markdown",
      "source": [
        "<div class=\"alert alert-block alert-info\">\n",
        "\n",
        "#**CLASS 10 - TYPE THEORY - PART IV**\n",
        "**Learning Objectives:**\n",
        "* MATHEMATICAL INDUTION\n",
        "* IMPLEMENTATION OF MATHEMATICAL INDUCTION\n"
      ],
      "metadata": {
        "id": "33EEpDW7pOaO"
      }
    },
    {
      "cell_type": "markdown",
      "source": [
        "**PRINCIPLE OF MATHEMATICAL INDUCTION**\n",
        "\n",
        "The principle of mathematical induction (often referred to as induction, sometimes referred to as PMI in books) is a fundamental proof technique. It is especially useful when proving that a statement is true for all positive integers.\n",
        "\n",
        "Let's say you have a statement P(n) that depends on a positive integer n and you have to prove that this statement holds for all positive integers n. How would you do that?\n",
        "\n",
        "*   At first you prove that P(k) is true where k is the starting value of your statement\n",
        "*   Then you show that if the statement is true for any arbitrary positive integer x, then it is true for x+1\n",
        "\n",
        "Now that we've gotten a little bit familiar with the idea of proof by induction, let's rewrite everything we learned a little more formally:\n",
        "\n",
        "* **Step 1 (Prove the base case):**  This is the part where you prove that P(k) is true if k is the starting value of your statement. The base case is usually showing that our statement is true when n=k.\n",
        "\n",
        "* **Step 2 (The inductive step):** This is where you assume that P(x) is true for some positive integer x. This assumption is called the inductive hypothesis. Then you show that if P(x) were true, so is P(x+1). This is the inductive step.\n",
        "\n",
        "In short, the inductive step usually means showing that **P(x)⟹P(x+1)**.\n",
        "\n",
        "\n",
        "\n",
        "\n"
      ],
      "metadata": {
        "id": "bR0VEroxclwf"
      }
    },
    {
      "cell_type": "markdown",
      "source": [
        "**EXERCISE 1**\n",
        "\n",
        "Prove that $\\sum_{i=0}^n i = 1+2+3+...+n = \\frac{n(n+1)}{2}$."
      ],
      "metadata": {
        "id": "gNUSOmRr4ehC"
      }
    },
    {
      "cell_type": "code",
      "source": [
        "!pip install z3-solver"
      ],
      "metadata": {
        "id": "EfIIj92P4koU",
        "outputId": "b8f063a9-8a62-48d2-da3d-77d0184a8464",
        "colab": {
          "base_uri": "https://localhost:8080/"
        }
      },
      "execution_count": null,
      "outputs": [
        {
          "output_type": "stream",
          "name": "stdout",
          "text": [
            "Looking in indexes: https://pypi.org/simple, https://us-python.pkg.dev/colab-wheels/public/simple/\n",
            "Collecting z3-solver\n",
            "  Downloading z3_solver-4.12.1.0-py2.py3-none-manylinux1_x86_64.whl (56.0 MB)\n",
            "\u001b[2K     \u001b[90m━━━━━━━━━━━━━━━━━━━━━━━━━━━━━━━━━━━━━━━━\u001b[0m \u001b[32m56.0/56.0 MB\u001b[0m \u001b[31m10.4 MB/s\u001b[0m eta \u001b[36m0:00:00\u001b[0m\n",
            "\u001b[?25hInstalling collected packages: z3-solver\n",
            "Successfully installed z3-solver-4.12.1.0\n"
          ]
        }
      ]
    },
    {
      "cell_type": "code",
      "source": [
        "from z3 import *\n",
        "\n",
        "#defining sumn\n",
        "n = Int(\"n\")\n",
        "sumn = Function(\"sumn\", IntSort(), IntSort())\n",
        "s = Solver()\n",
        "s.add(sumn(0) == 0)\n",
        "s.add(ForAll([n], sumn(n+1) == (n + 1) + sumn(n)))\n",
        "\n",
        "#try to find a counterexample of the sum\n",
        "s.add(Not(ForAll([n], Implies(n >= 0, 2 * sumn(n) == n * (n + 1)))))\n",
        "s.check()"
      ],
      "metadata": {
        "id": "mnKnFLtf5UgJ",
        "outputId": "3d253bb2-154d-432d-be4b-66abe3e6e500",
        "colab": {
          "base_uri": "https://localhost:8080/",
          "height": 34
        }
      },
      "execution_count": null,
      "outputs": [
        {
          "output_type": "execute_result",
          "data": {
            "text/plain": [
              "unknown"
            ],
            "text/html": [
              "<b>unknown</b>"
            ]
          },
          "metadata": {},
          "execution_count": 6
        }
      ]
    },
    {
      "cell_type": "markdown",
      "source": [
        "**EXERCISE 2**\n",
        "\n",
        "Prove that $1^2 + 2^2 + 3^2 + . . . + n^2 =\\frac{1}{6} n(n + 1)(2n + 1)$."
      ],
      "metadata": {
        "id": "nyt-Yeem9mBR"
      }
    },
    {
      "cell_type": "code",
      "source": [
        "#TYPE YOUR PROOF HERE"
      ],
      "metadata": {
        "id": "W6T9jr-0-c4L"
      },
      "execution_count": null,
      "outputs": []
    },
    {
      "cell_type": "markdown",
      "source": [
        "**EXERCISE 3**\n",
        "\n",
        "Prove that $\\frac{1}{1×2}+\\frac{1}{2×3}+...+\\frac{1}{n×(n+1)}=\\frac{n}{n + 1}$."
      ],
      "metadata": {
        "id": "jHzX8mze-lQC"
      }
    },
    {
      "cell_type": "code",
      "source": [
        "#TYPE YOUR PROOF HERE"
      ],
      "metadata": {
        "id": "BsUww6YR_v59"
      },
      "execution_count": null,
      "outputs": []
    },
    {
      "cell_type": "markdown",
      "source": [
        "**EXERCISE 4**\n",
        "\n",
        "Prove that $1^2 + 3^2 + 5^2 + . . . + (2n − 1)^2 =\\frac{4n^3 − n}{3}$."
      ],
      "metadata": {
        "id": "iCfReF-BACbH"
      }
    },
    {
      "cell_type": "code",
      "source": [
        "#TYPE YOUR PROOF HERE"
      ],
      "metadata": {
        "id": "Q4IKdw3YAmdX"
      },
      "execution_count": null,
      "outputs": []
    },
    {
      "cell_type": "markdown",
      "source": [
        "**EXERCISE 5**\n",
        "\n",
        "Prove that  Prove that, for all $ n ≥ 2, \\sqrt n^\\frac{1}{n} < 2 - \\frac{1}{n}$."
      ],
      "metadata": {
        "id": "3MvmphUXApq6"
      }
    },
    {
      "cell_type": "code",
      "source": [
        "#TYPE YOUR PROOF HERE"
      ],
      "metadata": {
        "id": "V4qNJf9pCvbX"
      },
      "execution_count": null,
      "outputs": []
    },
    {
      "cell_type": "markdown",
      "source": [
        "**HOMEWORK**"
      ],
      "metadata": {
        "id": "L-wdbS7SDdU8"
      }
    },
    {
      "cell_type": "markdown",
      "source": [
        "**EXERCISE 1**\n",
        "\n",
        "A binomial number $\\binom{n}{k}$ is defined as $\\binom{n}{k}=\\frac{n!}{k!(n-k)!}$. Prove that $\\binom{2n}{n}<2^{2n-2}$ for all $n\\ge 5$."
      ],
      "metadata": {
        "id": "9U00PCNnDgjf"
      }
    },
    {
      "cell_type": "code",
      "source": [
        "#TYPE YOUR PROOF HERE"
      ],
      "metadata": {
        "id": "xlGSwYL2FCXe"
      },
      "execution_count": null,
      "outputs": []
    },
    {
      "cell_type": "markdown",
      "source": [
        "**EXERCISE 2** Prove that $\\frac{1}{2 × 5} + \\frac{1}{5 × 8} + \\frac{1}{8 × 11} +...+ \\frac{1}{(3n − 1)(3n + 2)} = \\frac{n}{6n + 4}$."
      ],
      "metadata": {
        "id": "DhztNhMpFFDP"
      }
    },
    {
      "cell_type": "code",
      "source": [
        "#TYPE YOUR PROOF HERE"
      ],
      "metadata": {
        "id": "MoZya5sHFnWf"
      },
      "execution_count": null,
      "outputs": []
    }
  ]
}