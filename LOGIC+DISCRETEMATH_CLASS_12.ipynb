{
  "nbformat": 4,
  "nbformat_minor": 0,
  "metadata": {
    "colab": {
      "provenance": [],
      "include_colab_link": true
    },
    "kernelspec": {
      "name": "python3",
      "display_name": "Python 3"
    },
    "language_info": {
      "name": "python"
    }
  },
  "cells": [
    {
      "cell_type": "markdown",
      "metadata": {
        "id": "view-in-github",
        "colab_type": "text"
      },
      "source": [
        "<a href=\"https://colab.research.google.com/github/lucianosilvasp/LOGICAandMD/blob/main/LOGIC%2BDISCRETEMATH_CLASS_12.ipynb\" target=\"_parent\"><img src=\"https://colab.research.google.com/assets/colab-badge.svg\" alt=\"Open In Colab\"/></a>"
      ]
    },
    {
      "cell_type": "markdown",
      "source": [
        "<div class=\"alert alert-block alert-info\">\n",
        "\n",
        "#**CLASS 12 - TYPE THEORY - PART VI**\n",
        "**Learning Objectives:**\n",
        "* RECURRENCE RELATIONS\n",
        "* SOLVING RECURRENCE RELATIONS WITH PYTHON\n"
      ],
      "metadata": {
        "id": "33EEpDW7pOaO"
      }
    },
    {
      "cell_type": "markdown",
      "source": [
        "**RECURRENCE RELATIONS**\n",
        "\n",
        "In mathematics, a recurrence relation is an equation that recursively defines a sequence, once one or more initial terms are given: each further term of the sequence is defined as a function of the preceding terms.\n",
        "\n",
        "Recurrence relations are used to determine the running time of recursive programs – recurrence relations themselves are recursive:\n",
        "\n",
        "* T(0) = Time to solve problem of size 0\n",
        "* T(n) = Time to solve problem of size n\n",
        "\n",
        "Examples:\n",
        "\n",
        "* T(0) = 1, T(n ) = T(n-1) + 1\n",
        "* T(0) =1 , T(1) = 1, T(n) = T(n -1) + T(n-2) ,  Fibbanocci Sequence\n",
        "\n",
        "Given a recurrence relation, one wants to obtain a closed solution T(n).\n"
      ],
      "metadata": {
        "id": "bR0VEroxclwf"
      }
    },
    {
      "cell_type": "markdown",
      "source": [
        "**EXERCISE 1**\n",
        "\n",
        "Consider the following Python function:"
      ],
      "metadata": {
        "id": "gNUSOmRr4ehC"
      }
    },
    {
      "cell_type": "code",
      "source": [
        "def f(n):\n",
        "  if n==0:\n",
        "    return 0\n",
        "  else:\n",
        "    return 1+f(n-1)\n",
        "\n",
        "f(5)"
      ],
      "metadata": {
        "colab": {
          "base_uri": "https://localhost:8080/"
        },
        "id": "gOpokEe4U4NT",
        "outputId": "19347b01-4240-44ad-9f6d-af940954f541"
      },
      "execution_count": null,
      "outputs": [
        {
          "output_type": "execute_result",
          "data": {
            "text/plain": [
              "5"
            ]
          },
          "metadata": {},
          "execution_count": 1
        }
      ]
    },
    {
      "cell_type": "markdown",
      "source": [
        "How many arithmetical operations are used to evaluate f(n) ?"
      ],
      "metadata": {
        "id": "q21RhpEDVNOP"
      }
    },
    {
      "cell_type": "markdown",
      "source": [
        "**ANSWER**: first of all, let's build a recurrence relation to calculate the number of arithmetical operations T(n) needed to evaluate f(n):\n",
        "\n",
        "* if n=0, T(0)=0 because it corresponds to the first if\n",
        "* if n>0, T(n)=2+T(n-1) because we are using two arithmetical operations (+ and -) plus the recursive counting T(n-1).\n",
        "\n",
        "So, we need to solve the following recurrence relation:\n",
        "\n",
        "* T(0)=0\n",
        "* T(n)=2+T(n-1), n>0\n",
        "\n",
        "This equation can be easily solved using sympy:"
      ],
      "metadata": {
        "id": "kRmNUdnvVYLt"
      }
    },
    {
      "cell_type": "code",
      "source": [
        "from sympy import *\n",
        "T = Function('T')\n",
        "n = symbols('n',integer=True)\n",
        "f = T(n)-2-T(n-1)\n",
        "rsolve(f,T(n),{T(0):0})"
      ],
      "metadata": {
        "colab": {
          "base_uri": "https://localhost:8080/",
          "height": 39
        },
        "id": "wnPtq8xFX_54",
        "outputId": "a15f6c5d-1fd7-4efd-e320-ded965fcd3eb"
      },
      "execution_count": null,
      "outputs": [
        {
          "output_type": "execute_result",
          "data": {
            "text/plain": [
              "2*n"
            ],
            "text/latex": "$\\displaystyle 2 n$"
          },
          "metadata": {},
          "execution_count": 3
        }
      ]
    },
    {
      "cell_type": "markdown",
      "source": [
        "**EXERCISE 2**\n",
        "\n",
        "Consider the following Python function which computes factorial numbers:"
      ],
      "metadata": {
        "id": "LuUDP18TdiZW"
      }
    },
    {
      "cell_type": "code",
      "source": [
        "def fact(n):\n",
        "  if n==0:\n",
        "    return 1\n",
        "  else:\n",
        "    return n*fact(n-1)\n",
        "fact(5)"
      ],
      "metadata": {
        "colab": {
          "base_uri": "https://localhost:8080/"
        },
        "id": "IG7Qsd2Ydpaa",
        "outputId": "be366780-8647-4ad3-866c-e2d724feed5f"
      },
      "execution_count": null,
      "outputs": [
        {
          "output_type": "execute_result",
          "data": {
            "text/plain": [
              "120"
            ]
          },
          "metadata": {},
          "execution_count": 5
        }
      ]
    },
    {
      "cell_type": "markdown",
      "source": [
        "How many arithmetical operations are used to evaluate fib(n) ?"
      ],
      "metadata": {
        "id": "j8-2-OIwdz4m"
      }
    },
    {
      "cell_type": "code",
      "source": [
        "#TYPE YOUR IMPLEMENTATION HERE"
      ],
      "metadata": {
        "id": "I_9XcHXQd0vs"
      },
      "execution_count": null,
      "outputs": []
    },
    {
      "cell_type": "markdown",
      "source": [
        "**EXERCISE 3**\n",
        "\n",
        "Consider the following Python function which computes Fibonacci numbers:"
      ],
      "metadata": {
        "id": "aeoghaYtcQYd"
      }
    },
    {
      "cell_type": "code",
      "source": [
        "def fib(n):\n",
        "  if n==0 or n==1:\n",
        "    return 1\n",
        "  else:\n",
        "    return fib(n-1)+fib(n-2)\n",
        "\n",
        "fib(5)"
      ],
      "metadata": {
        "colab": {
          "base_uri": "https://localhost:8080/"
        },
        "id": "FpH0j-Ylcc5C",
        "outputId": "3a87c090-c12c-46e0-850c-0edba53c77e6"
      },
      "execution_count": null,
      "outputs": [
        {
          "output_type": "execute_result",
          "data": {
            "text/plain": [
              "8"
            ]
          },
          "metadata": {},
          "execution_count": 4
        }
      ]
    },
    {
      "cell_type": "markdown",
      "source": [
        "How many arithmetical operations are used to evaluate fib(n) ?"
      ],
      "metadata": {
        "id": "wB95Dd5ic2OD"
      }
    },
    {
      "cell_type": "code",
      "source": [
        "#TYPE YOUR IMPLEMENTATION HERE"
      ],
      "metadata": {
        "id": "VwfiJGVoc5Y2"
      },
      "execution_count": null,
      "outputs": []
    },
    {
      "cell_type": "markdown",
      "source": [
        "**EXERCISE 4**\n",
        "\n",
        "Consider the following implementation of Mergesort in Python:"
      ],
      "metadata": {
        "id": "pphwrVdIrqnv"
      }
    },
    {
      "cell_type": "code",
      "source": [
        "def merge(left, right):\n",
        "    \"\"\"Merge sort merging function.\"\"\"\n",
        "\n",
        "    left_index, right_index = 0, 0\n",
        "    result = []\n",
        "    while left_index < len(left) and right_index < len(right):\n",
        "        if left[left_index] < right[right_index]:\n",
        "            result.append(left[left_index])\n",
        "            left_index += 1\n",
        "        else:\n",
        "            result.append(right[right_index])\n",
        "            right_index += 1\n",
        "\n",
        "    result += left[left_index:]\n",
        "    result += right[right_index:]\n",
        "    return result\n",
        "\n",
        "\n",
        "def merge_sort(array):\n",
        "    \"\"\"Merge sort algorithm implementation.\"\"\"\n",
        "\n",
        "    if len(array) <= 1:  # base case\n",
        "        return array\n",
        "\n",
        "    # divide array in half and merge sort recursively\n",
        "    half = len(array) // 2\n",
        "    left = merge_sort(array[:half])\n",
        "    right = merge_sort(array[half:])\n",
        "\n",
        "    return merge(left, right)\n",
        "\n",
        "merge_sort([2,-1,4,0,6,-3])"
      ],
      "metadata": {
        "colab": {
          "base_uri": "https://localhost:8080/"
        },
        "id": "7ZrGvVQfrtB8",
        "outputId": "44bfc64b-0ee7-47c6-b407-9b82d7b6df74"
      },
      "execution_count": null,
      "outputs": [
        {
          "output_type": "execute_result",
          "data": {
            "text/plain": [
              "[-3, -1, 0, 2, 4, 6]"
            ]
          },
          "metadata": {},
          "execution_count": 6
        }
      ]
    },
    {
      "cell_type": "markdown",
      "source": [
        "How many comparisons are performed by merge_sort to sort a n-array ?"
      ],
      "metadata": {
        "id": "5iUeHWGpsqzy"
      }
    },
    {
      "cell_type": "code",
      "source": [
        "#TYPE YOUR IMPLEMENTATION HERE"
      ],
      "metadata": {
        "id": "Dwum99Shs0oB"
      },
      "execution_count": null,
      "outputs": []
    },
    {
      "cell_type": "markdown",
      "source": [
        "**EXERCISE 5**\n",
        "\n",
        "Consider the following implementation of Quicksort in Python:"
      ],
      "metadata": {
        "id": "4q8b_33ttfY7"
      }
    },
    {
      "cell_type": "code",
      "source": [
        "def partition(array, start, end):\n",
        "    pivot = array[start]\n",
        "    low = start + 1\n",
        "    high = end\n",
        "\n",
        "    while True:\n",
        "        # If the current value we're looking at is larger than the pivot\n",
        "        # it's in the right place (right side of pivot) and we can move left,\n",
        "        # to the next element.\n",
        "        # We also need to make sure we haven't surpassed the low pointer, since that\n",
        "        # indicates we have already moved all the elements to their correct side of the pivot\n",
        "        while low <= high and array[high] >= pivot:\n",
        "            high = high - 1\n",
        "\n",
        "        # Opposite process of the one above\n",
        "        while low <= high and array[low] <= pivot:\n",
        "            low = low + 1\n",
        "\n",
        "        # We either found a value for both high and low that is out of order\n",
        "        # or low is higher than high, in which case we exit the loop\n",
        "        if low <= high:\n",
        "            array[low], array[high] = array[high], array[low]\n",
        "            # The loop continues\n",
        "        else:\n",
        "            # We exit out of the loop\n",
        "            break\n",
        "\n",
        "    array[start], array[high] = array[high], array[start]\n",
        "\n",
        "    return high\n",
        "\n",
        "\n",
        "def quick_sort(array, start, end):\n",
        "    if start >= end:\n",
        "        return\n",
        "\n",
        "    p = partition(array, start, end)\n",
        "    quick_sort(array, start, p-1)\n",
        "    quick_sort(array, p+1, end)\n",
        "\n",
        "array = [29,99,27,41,66,28,44,78,87,19,31,76,58,88,83,97,12,21,44]\n",
        "\n",
        "quick_sort(array, 0, len(array) - 1)\n",
        "\n",
        "print(array)"
      ],
      "metadata": {
        "id": "WRfTgDJzu9W3",
        "outputId": "82766943-c76b-41e6-b912-cded65932323",
        "colab": {
          "base_uri": "https://localhost:8080/"
        }
      },
      "execution_count": null,
      "outputs": [
        {
          "output_type": "stream",
          "name": "stdout",
          "text": [
            "[12, 19, 21, 27, 28, 29, 31, 41, 44, 44, 58, 66, 76, 78, 83, 87, 88, 97, 99]\n"
          ]
        }
      ]
    },
    {
      "cell_type": "markdown",
      "source": [
        "How many comparisons are performed by merge_sort to sort a n-array ?"
      ],
      "metadata": {
        "id": "Ve7T0072vf1K"
      }
    },
    {
      "cell_type": "code",
      "source": [
        "#TYPE YOUR IMPLEMENTATION HERE"
      ],
      "metadata": {
        "id": "7eDW3vq8vkp9"
      },
      "execution_count": null,
      "outputs": []
    }
  ]
}