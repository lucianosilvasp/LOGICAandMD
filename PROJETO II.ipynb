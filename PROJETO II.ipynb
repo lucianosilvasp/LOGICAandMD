{
  "nbformat": 4,
  "nbformat_minor": 0,
  "metadata": {
    "colab": {
      "provenance": [],
      "include_colab_link": true
    },
    "kernelspec": {
      "name": "python3",
      "display_name": "Python 3"
    },
    "language_info": {
      "name": "python"
    }
  },
  "cells": [
    {
      "cell_type": "markdown",
      "metadata": {
        "id": "view-in-github",
        "colab_type": "text"
      },
      "source": [
        "<a href=\"https://colab.research.google.com/github/lucianosilvasp/LOGICAandMD/blob/main/PROJETO%20II.ipynb\" target=\"_parent\"><img src=\"https://colab.research.google.com/assets/colab-badge.svg\" alt=\"Open In Colab\"/></a>"
      ]
    },
    {
      "cell_type": "markdown",
      "source": [
        "**LÓGICA E MATEMÁTICA DISCRETA - PROJETO II - DATA ENTREGA: 21/05/2024**"
      ],
      "metadata": {
        "id": "yrvGWQjquny6"
      }
    },
    {
      "cell_type": "markdown",
      "source": [
        "Nosso objetivo neste projeto será provar o funcionamento de um programa recursivo, isto é, que usa recursão. No Projeto I, verificamos a versão **interativa** do cálculo de mdc."
      ],
      "metadata": {
        "id": "j3A7sF3Vu1Js"
      }
    },
    {
      "cell_type": "code",
      "source": [
        "def mdc(num1, num2):\n",
        "    resto = None\n",
        "    while resto != 0:\n",
        "        resto = num1 % num2\n",
        "        num1  = num2\n",
        "        num2  = resto\n",
        "\n",
        "    return num1\n",
        "\n",
        "assert 3 == mdc(24, 9)\n",
        "assert 10 == mdc(30, 20)"
      ],
      "metadata": {
        "id": "K_yVCnxN3Fq4"
      },
      "execution_count": null,
      "outputs": []
    },
    {
      "cell_type": "markdown",
      "source": [
        "Neste segundo projeto, vamos considerar a seguinte versão **recursiva** do mdc. Seu objetivo será verificar (provar) o seu fuincionamento com o Z3-Solver."
      ],
      "metadata": {
        "id": "iM03Cn-_4N_l"
      }
    },
    {
      "cell_type": "code",
      "source": [
        "def mdc(num1, num2):\n",
        "    if num2 == 0:\n",
        "        return num1\n",
        "    return mdc(num2, num1%num2)\n",
        "\n",
        "assert 3 == mdc(24, 9)\n",
        "assert 10 == mdc(30, 20)"
      ],
      "metadata": {
        "id": "gxCp6rRi7e2M"
      },
      "execution_count": 1,
      "outputs": []
    },
    {
      "cell_type": "markdown",
      "source": [
        "**DETALHES BUROCRÁTICOS DO PROJETO**\n",
        "\n",
        "\n",
        "*   O projeto pode ser feito individualmente ou em duplas\n",
        "*   O projeto deve ser entregue num notebook Python\n",
        "\n"
      ],
      "metadata": {
        "id": "RZe3_rSr4oHJ"
      }
    },
    {
      "cell_type": "markdown",
      "source": [
        "**RUBRICA DO PROJETO**\n",
        "\n",
        "D - O PROJETO NÃO COMPILA\n",
        "\n",
        "C - O PROJETO COMPILA, MAS AS FÓRMULAS ESTÃO TOTALMENTE ERRADAS\n",
        "\n",
        "B - O PROJETO COMPILA, MAS AS FÓRMULAS ESTÃO PARCIALMENTE ERRADAS\n",
        "\n",
        "A - O PROJETO COMPILA, AS FÓRMULAS ESTÃO TODAS CORRETAS E PROVANDO QUE O PROGRAMA FUNCIONA\n",
        "\n",
        "A+ - MESMO QUE O NÍVEL A, PORÉM COM DESCRIÇÃO DE TODOS OS PASSOS REALIZADOS"
      ],
      "metadata": {
        "id": "2RisenJx5VbE"
      }
    }
  ]
}