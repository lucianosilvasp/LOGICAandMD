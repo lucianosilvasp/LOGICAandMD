{
  "nbformat": 4,
  "nbformat_minor": 0,
  "metadata": {
    "colab": {
      "provenance": [],
      "include_colab_link": true
    },
    "kernelspec": {
      "name": "python3",
      "display_name": "Python 3"
    },
    "language_info": {
      "name": "python"
    }
  },
  "cells": [
    {
      "cell_type": "markdown",
      "metadata": {
        "id": "view-in-github",
        "colab_type": "text"
      },
      "source": [
        "<a href=\"https://colab.research.google.com/github/lucianosilvasp/LOGICAandMD/blob/main/PROJETO%20II.ipynb\" target=\"_parent\"><img src=\"https://colab.research.google.com/assets/colab-badge.svg\" alt=\"Open In Colab\"/></a>"
      ]
    },
    {
      "cell_type": "markdown",
      "source": [
        "**LÓGICA E MATEMÁTICA DISCRETA - PROJETO I**"
      ],
      "metadata": {
        "id": "yrvGWQjquny6"
      }
    },
    {
      "cell_type": "markdown",
      "source": [
        "Nosso objetivo neste projeto será provar o funcionamento de um programa iterativo, isto é, que não usa recursão. No Projeto II, vamos provar o funcionamento deste programa, porém na versão iterativa."
      ],
      "metadata": {
        "id": "j3A7sF3Vu1Js"
      }
    },
    {
      "cell_type": "markdown",
      "source": [
        "Antes de analisarmos nosso programa iterativo, vamos aprender como usar a lógica LTL para provar propriedades de programas e verificar que eles realmente funcionam."
      ],
      "metadata": {
        "id": "aFl-hiJuvQ2m"
      }
    },
    {
      "cell_type": "code",
      "source": [
        "#PROGRAMA I - ATRIBUIÇÃO SIMPLES\n",
        "num=1\n",
        "assert num==1"
      ],
      "metadata": {
        "id": "6_aSWWOtv8YB"
      },
      "execution_count": null,
      "outputs": []
    },
    {
      "cell_type": "markdown",
      "source": [
        "Vamos escrever uma fórmula LTL para este programa:"
      ],
      "metadata": {
        "id": "_RFRO3c6wQQq"
      }
    },
    {
      "cell_type": "code",
      "source": [
        "!pip install flloat"
      ],
      "metadata": {
        "id": "se18wCrZzo1C"
      },
      "execution_count": null,
      "outputs": []
    },
    {
      "cell_type": "code",
      "source": [
        "from flloat.parser.ltlf import LTLfParser\n",
        "\n",
        "#formula - numequals1\n",
        "parser = LTLfParser()\n",
        "formula = \"F (numequals1)\"\n",
        "parsed_formula = parser(formula)\n",
        "dfa = parsed_formula.to_automaton()\n",
        "graph = dfa.to_graphviz()\n",
        "graph"
      ],
      "metadata": {
        "id": "bJZrlFNgwaJu"
      },
      "execution_count": null,
      "outputs": []
    },
    {
      "cell_type": "code",
      "source": [
        "from pickle import TRUE\n",
        "test = [{\"numequals1\": True}]\n",
        "assert dfa.accepts(test)"
      ],
      "metadata": {
        "id": "pijMiVwv0HVh"
      },
      "execution_count": null,
      "outputs": []
    },
    {
      "cell_type": "code",
      "source": [
        "from pickle import TRUE\n",
        "test = [{\"numequals1\": false}]\n",
        "assert dfa.accepts(test)"
      ],
      "metadata": {
        "id": "LJsCG_5Y0X4H"
      },
      "execution_count": null,
      "outputs": []
    },
    {
      "cell_type": "code",
      "source": [
        "#PROGRAMA II - ATRIBUIÇÃO SEQUENCIAL\n",
        "y=1\n",
        "z=2\n",
        "assert y==1 and z==2"
      ],
      "metadata": {
        "id": "qYu447JK0npb"
      },
      "execution_count": null,
      "outputs": []
    },
    {
      "cell_type": "markdown",
      "source": [
        "Vamos escrever uma fórmula LTL para este programa:"
      ],
      "metadata": {
        "id": "9YoDSDdr1M9j"
      }
    },
    {
      "cell_type": "code",
      "source": [
        "#formula - numequals1\n",
        "parser = LTLfParser()\n",
        "formula = \"F (y & z)\"\n",
        "parsed_formula = parser(formula)\n",
        "dfa = parsed_formula.to_automaton()\n",
        "graph = dfa.to_graphviz()\n",
        "graph"
      ],
      "metadata": {
        "id": "mQKxugiA1YbN"
      },
      "execution_count": null,
      "outputs": []
    },
    {
      "cell_type": "code",
      "source": [
        "test = [{\"y\": False, \"z\": False}]\n",
        "assert dfa.accepts(test)"
      ],
      "metadata": {
        "id": "QXVC_KZ91nLV"
      },
      "execution_count": null,
      "outputs": []
    },
    {
      "cell_type": "markdown",
      "source": [
        "**EXERCÍCIO**"
      ],
      "metadata": {
        "id": "zzYUFNgz3ACk"
      }
    },
    {
      "cell_type": "code",
      "source": [
        "#PROGRAMA II - ATRIBUIÇÃO SEQUENCIAL\n",
        "y=1\n",
        "if y>0:\n",
        "  z=2\n",
        "else:\n",
        "  z=3\n",
        "assert y==1 and z==2"
      ],
      "metadata": {
        "id": "O0s_TEUj2fcR"
      },
      "execution_count": null,
      "outputs": []
    },
    {
      "cell_type": "markdown",
      "source": [
        "**PROJETO I - DATA DE ENTREGA: 06 ABRIL 2024**"
      ],
      "metadata": {
        "id": "Sy51EtvS3LD3"
      }
    },
    {
      "cell_type": "markdown",
      "source": [
        "O código abaixo calcula o máximo divisor comum entre dois positivos maiores que 1."
      ],
      "metadata": {
        "id": "TTupdJ5j3daS"
      }
    },
    {
      "cell_type": "code",
      "source": [
        "\n",
        "def mdc(num1, num2):\n",
        "    resto = None\n",
        "    while resto != 0:\n",
        "        resto = num1 % num2\n",
        "        num1  = num2\n",
        "        num2  = resto\n",
        "\n",
        "    return num1\n",
        "\n",
        "assert 3 == mdc(24, 9)\n",
        "assert 10 == mdc(30, 20)"
      ],
      "metadata": {
        "id": "K_yVCnxN3Fq4"
      },
      "execution_count": null,
      "outputs": []
    },
    {
      "cell_type": "markdown",
      "source": [
        "Provar, usando a lógica LTL, que este programa realmente calcula o mdc entre dois números positivos."
      ],
      "metadata": {
        "id": "iM03Cn-_4N_l"
      }
    },
    {
      "cell_type": "markdown",
      "source": [
        "**DETALHES BUROCRÁTICOS DO PROJETO**\n",
        "\n",
        "\n",
        "*   O projeto pode ser feito individualmente ou em duplas\n",
        "*   O projeto deve ser entregue num notebook Python\n",
        "\n"
      ],
      "metadata": {
        "id": "RZe3_rSr4oHJ"
      }
    },
    {
      "cell_type": "markdown",
      "source": [
        "**RUBRICA DO PROJETO**\n",
        "\n",
        "D - O PROJETO NÃO COMPILA\n",
        "\n",
        "C - O PROJETO COMPILA, MAS AS FÓRMULAS ESTÃO TOTALMENTE ERRADAS\n",
        "\n",
        "B - O PROJETO COMPILA, MAS AS FÓRMULAS ESTÃO PARCIALMENTE ERRADAS\n",
        "\n",
        "A - O PROJETO COMPILA, AS FÓRMULAS ESTÃO TODAS CORRETAS E PROVANDO QUE O PROGRAMA FUNCIONA\n",
        "\n",
        "A+ - MESMO QUE O NÍVEL A, PORÉM COM DESCRIÇÃO DE TODOS OS PASSOS REALIZADOS"
      ],
      "metadata": {
        "id": "2RisenJx5VbE"
      }
    }
  ]
}