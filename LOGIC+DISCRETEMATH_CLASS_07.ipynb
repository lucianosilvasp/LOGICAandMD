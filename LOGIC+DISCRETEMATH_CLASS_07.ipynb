{
  "nbformat": 4,
  "nbformat_minor": 0,
  "metadata": {
    "colab": {
      "provenance": [],
      "include_colab_link": true
    },
    "kernelspec": {
      "name": "python3",
      "display_name": "Python 3"
    },
    "language_info": {
      "name": "python"
    }
  },
  "cells": [
    {
      "cell_type": "markdown",
      "metadata": {
        "id": "view-in-github",
        "colab_type": "text"
      },
      "source": [
        "<a href=\"https://colab.research.google.com/github/lucianosilvasp/LOGICAandMD/blob/main/LOGIC%2BDISCRETEMATH_CLASS_07.ipynb\" target=\"_parent\"><img src=\"https://colab.research.google.com/assets/colab-badge.svg\" alt=\"Open In Colab\"/></a>"
      ]
    },
    {
      "cell_type": "markdown",
      "source": [
        "<div class=\"alert alert-block alert-info\">\n",
        "\n",
        "#**CLASS 07 - TYPE THEORY - PART I**\n",
        "**Learning Objectives:**\n",
        "*   CONCEPT OF TYPE\n",
        "*   LOGICAL SPECIFICATION OF TYPES\n",
        "*   PROGRAMMING WITH TYPES\n"
      ],
      "metadata": {
        "id": "33EEpDW7pOaO"
      }
    },
    {
      "cell_type": "markdown",
      "source": [
        "**THE CONCEPT OF TYPE**\n",
        "\n",
        "\n",
        "In mathematics, logic, and computer science, a type theory is the formal presentation of a specific type system, and in general type theory is the academic study of type systems. Some type theories serve as alternatives to set theory as a foundation of mathematics. Two influential type theories that were proposed as foundations are Alonzo Church's typed λ-calculus and Per Martin-Löf's intuitionistic type theory. Most computerized proof-writing systems use a type theory for their foundation. A common one is Thierry Coquand's Calculus of Inductive Constructions.\n",
        "\n",
        "Type theory was created to avoid a paradox in a mathematical foundation based on naive set theory and formal logic. Russell's paradox, which was discovered by Bertrand Russell, existed because a set could be defined using \"all possible sets\", which included itself. Between 1902 and 1908, Bertrand Russell proposed various \"theories of type\" to fix the problem. By 1908 Russell arrived at a \"ramified\" theory of types together with an \"axiom of reducibility\" both of which featured prominently in Whitehead and Russell's Principia Mathematica published between 1910 and 1913. This system avoided Russell's paradox by creating a hierarchy of types and then assigning each concrete mathematical entity to a type. Entities of a given type are built exclusively of subtypes of that type, thus preventing an entity from being defined using itself. Russell's theory of types ruled out the possibility of a set being a member of itself.\n",
        "\n",
        "Types were not always used in logic. There were other techniques to avoid Russell's paradox. Types did gain a hold when used with one particular logic, Alonzo Church's lambda calculus.\n",
        "\n",
        "The most famous early example is Church's simply typed lambda calculus. Church's theory of types helped the formal system avoid the Kleene–Rosser paradox that afflicted the original untyped lambda calculus. Church demonstrated that it could serve as a foundation of mathematics and it was referred to as a higher-order logic.\n",
        "\n",
        "The phrase \"type theory\" now generally refers to a typed system based around lambda calculus. One influential system is Per Martin-Löf's intuitionistic type theory, which was proposed as a foundation for constructive mathematics. Another is Thierry Coquand's calculus of constructions, which is used as the foundation by Coq, Lean, and other \"proof assistants\" (computerized proof writing programs). Type theories are an area of active research, as demonstrated by homotopy type theory.\n",
        "\n",
        "There are many type theories, which makes it difficult to produce a comprehensive taxonomy.\n",
        "\n",
        "\n"
      ],
      "metadata": {
        "id": "Hx-BYWNP94Jb"
      }
    },
    {
      "cell_type": "markdown",
      "source": [
        "**TERMS AND TYPES**\n",
        "\n",
        "In type theory, every term has a type. A term and its type are often written together as \"term : type\". A common type to include in a type theory is the Natural numbers, often written as $\\mathbb N$ or \"nat\". Another is Boolean logic values. So, some very simple terms with their types are:\n",
        "\n",
        "* 1 : nat\n",
        "* 42 : nat\n",
        "* true : bool\n",
        "\n",
        "Terms can be built out of other terms using function calls. In type theory, a function call is called \"function application\". Function application takes a term of a given type and results in a term of another given type. Function application is written \"function argument argument ...\", instead of the conventional \"function(argument,argument, ...)\". For natural numbers, it is possible to define a function called \"add\" that takes two natural numbers. Thus, some more terms with their types are:\n",
        "\n",
        "* add 0 0 : nat\n",
        "* add 2 3 : nat\n",
        "* add 1 (add 1 (add 1 0)) : nat\n",
        "\n",
        "In the last term, parentheses were added to indicate the order of operations. Technically, most type theories require the parentheses to be present for every operation, but, in practice, they are not written and authors assume readers can use precedence and associativity to know where they are. For similar ease, it is a common notation to write \"x+y\" instead of \"add x y\". So, the above terms might be rewritten as:\n",
        "\n",
        "* 0 + 0 : nat\n",
        "* 2 + 3 : nat\n",
        "* 1 + (1 + (1 + 0)) : nat\n",
        "\n",
        "Terms may also contain variables. Variables always have a type. So, assuming \"x\" and \"y\" are variables of type \"nat\", the following are also valid terms:\n",
        "\n",
        "* x : nat\n",
        "* x + 2 : nat\n",
        "* x + (x + y) : nat\n",
        "\n",
        "There are more types than \"nat\" and \"bool\". We have already seen the term \"add\", which is not a \"nat\", but a function that, when applied to two \"nat\"s, computes to a \"nat\"."
      ],
      "metadata": {
        "id": "M2l1-CiG8427"
      }
    },
    {
      "cell_type": "markdown",
      "source": [
        "**TERMS AND TYPES IN PYTHON**\n",
        "\n",
        "In 1928, Hilbert and Ackerman posed a challenge: devise an algorithm that takes as input a first-order logic statement and determines whether that statement is valid or not. Soon after, Alonzo Church, then Professor at the Department of Mathematics in Princeton, started working on this problem. His approach was to research the notion of “function” and create based on this notion a logical system that is sufficient for all of mathematics. Lambda calculus emerged out of this research, also with contributions from Church’s students Kleene and Rosser. This research led to Church’s 1936 paper showing that an algorithm as desired Hilbert and Ackerman’s does not exist. His solution was to formulate a term in Lambda Calculus and show that there is no way to determine whether that term has a closed form (more precisely 𝛽-normal form). About one year later, Turing published his paper, where he establish the same result but using different techniques that are based on “computing machines”, and proved that his and Church’s approach were equivalent.\n",
        "\n",
        "Church and Turing’s results are like two sides of a coin. Church’s result is all about abstraction offers a mathematical language in which computation can be expressed. Turing’s result is all about implementation: it convincingly describes how to implement computation.\n",
        "\n",
        "There are at least several ways to define the syntax of Lambda Calculus. Let 𝑉\n",
        " be a countable set 𝑉 of variables. We define the abstract syntax for lambda calculus inductively as follows. L is the least set of the terms that satisfy the following:\n",
        "\n",
        "* if 𝑥∈𝑉 then 𝑥∈L\n",
        "\n",
        "* if 𝑡1∈L and 𝑡2∈L then 𝑡1𝑡2∈L\n",
        "\n",
        "* if 𝑥∈𝑉 and 𝑡∈L then 𝜆𝑥.𝑡∈L\n",
        "\n",
        "L is the “least” set verifying the above properties. Each term in  is called a lambda term. Example lambda terms include\n",
        "\n",
        "* 𝑥\n",
        "* 𝜆𝑥.𝑥\n",
        "* 𝜆𝑥.𝑥 𝑦\n",
        "\n",
        "One of the key ideas in Church’s Lambda Calculus (and functional programming), as well as in mathematics, is that a function is an ordinary value, just like an integer, a string, or a list. For example, you can write in Python a lambda expression and bind to to a variable.\n"
      ],
      "metadata": {
        "id": "fNM8cbpO-iEG"
      }
    },
    {
      "cell_type": "code",
      "source": [
        "#ABSTRACTION\n",
        "add = lambda x, y: x + y\n",
        "print (add)"
      ],
      "metadata": {
        "colab": {
          "base_uri": "https://localhost:8080/"
        },
        "id": "j-vW25QSAofu",
        "outputId": "dd1bb5a4-ce06-49ce-967f-c2138e28a018"
      },
      "execution_count": null,
      "outputs": [
        {
          "output_type": "stream",
          "name": "stdout",
          "text": [
            "<function <lambda> at 0x7fa621930ee0>\n"
          ]
        }
      ]
    },
    {
      "cell_type": "code",
      "source": [
        "def add(x,y):\n",
        "  return x+y"
      ],
      "metadata": {
        "id": "FzcYhzF790Ku"
      },
      "execution_count": null,
      "outputs": []
    },
    {
      "cell_type": "code",
      "source": [],
      "metadata": {
        "id": "Sw65Z4L59i8E"
      },
      "execution_count": null,
      "outputs": []
    },
    {
      "cell_type": "code",
      "source": [
        "#APPLICATION\n",
        "add(1,2)"
      ],
      "metadata": {
        "colab": {
          "base_uri": "https://localhost:8080/"
        },
        "id": "VhzIVvtEDWTz",
        "outputId": "4f18904f-8674-46ae-8339-1b4453d5c5f6"
      },
      "execution_count": null,
      "outputs": [
        {
          "output_type": "execute_result",
          "data": {
            "text/plain": [
              "3"
            ]
          },
          "metadata": {},
          "execution_count": 2
        }
      ]
    },
    {
      "cell_type": "code",
      "source": [
        "(lambda x, y: x + y)(1,2)"
      ],
      "metadata": {
        "id": "VaWi2I7q9daW",
        "outputId": "ee76ba7b-1035-4c1e-e544-c389e7ceee5c",
        "colab": {
          "base_uri": "https://localhost:8080/"
        }
      },
      "execution_count": null,
      "outputs": [
        {
          "output_type": "execute_result",
          "data": {
            "text/plain": [
              "3"
            ]
          },
          "metadata": {},
          "execution_count": 2
        }
      ]
    },
    {
      "cell_type": "markdown",
      "source": [
        "Function can also be applied partially, e.g., by passing only some of the arguments. For example, we might want to specialize the function add to an increment function that adds one to its argument. In Python, to do this, we can use the partial function from the functools package."
      ],
      "metadata": {
        "id": "26BDvHGCD8-e"
      }
    },
    {
      "cell_type": "code",
      "source": [
        "from functools import partial\n",
        "\n",
        "add = lambda x, y: x + y\n",
        "inc = lambda x: x+1\n",
        "inc = partial (add, 1)   # inc x: x + 1\n",
        "print(inc)"
      ],
      "metadata": {
        "colab": {
          "base_uri": "https://localhost:8080/"
        },
        "id": "DPFu7MCaD9_c",
        "outputId": "f8e86c36-8d54-4f4a-a7df-729d9f6a9a68"
      },
      "execution_count": null,
      "outputs": [
        {
          "output_type": "stream",
          "name": "stdout",
          "text": [
            "functools.partial(<function <lambda> at 0x7ff5cdd164c0>, 1)\n"
          ]
        }
      ]
    },
    {
      "cell_type": "code",
      "source": [
        "inc(2)"
      ],
      "metadata": {
        "colab": {
          "base_uri": "https://localhost:8080/"
        },
        "id": "P1DBi4AwEjyg",
        "outputId": "4245df46-2b96-4864-a5c0-1b47779d6588"
      },
      "execution_count": null,
      "outputs": [
        {
          "output_type": "execute_result",
          "data": {
            "text/plain": [
              "3"
            ]
          },
          "metadata": {},
          "execution_count": 6
        }
      ]
    },
    {
      "cell_type": "markdown",
      "source": [
        "As an example, suppose that we have a sequence and we want to be able to map over that sequence to generate another sequence. To this end, we can imagine writing a function map that takes a function and a list and applies it to every element of the list. This function is easy to implement in Python like this\n",
        "\n",
        "lambda f, l: [f(x) for x in l]  \n",
        "\n",
        "\n",
        "Here is an example application of map where we increment every element of a sequence by one."
      ],
      "metadata": {
        "id": "hiNCViYiFIqM"
      }
    },
    {
      "cell_type": "code",
      "source": [
        "from functools import partial\n",
        "\n",
        "add = lambda x, y: x + y\n",
        "inc = partial (add, 1)\n",
        "\n",
        "map = lambda f, l: [f(x) for x in l]\n",
        "\n",
        "s = [0, 1, 2, 3]\n",
        "ss = map (inc, s)\n",
        "\n",
        "print (s)\n",
        "print(ss)"
      ],
      "metadata": {
        "colab": {
          "base_uri": "https://localhost:8080/"
        },
        "id": "gPpyHhE2FQ4t",
        "outputId": "b95da63d-678b-45a0-fff0-bc491d059e77"
      },
      "execution_count": null,
      "outputs": [
        {
          "output_type": "stream",
          "name": "stdout",
          "text": [
            "[0, 1, 2, 3]\n",
            "[1, 2, 3, 4]\n"
          ]
        }
      ]
    },
    {
      "cell_type": "markdown",
      "source": [
        "**EXERCISE 1**\n",
        "\n",
        "Enumerate the 100 first natural even numbers using lambdas."
      ],
      "metadata": {
        "id": "WpYfklSVF3Vw"
      }
    },
    {
      "cell_type": "code",
      "source": [
        "#[ 0, 2 , 4, 6, 8, 10, 12, 14, ...]\n",
        "#[ 0, 1 , 2, 3, 4,  5,  6,  7, ...] = range(0,100)\n",
        "\n",
        "print(list(map(lambda x:2*x,range(0,100))))\n"
      ],
      "metadata": {
        "id": "aFMFYSW-GACp",
        "outputId": "6223ae1d-1837-4e73-fdc1-09ca050d0a1f",
        "colab": {
          "base_uri": "https://localhost:8080/"
        }
      },
      "execution_count": null,
      "outputs": [
        {
          "output_type": "stream",
          "name": "stdout",
          "text": [
            "[0, 2, 4, 6, 8, 10, 12, 14, 16, 18, 20, 22, 24, 26, 28, 30, 32, 34, 36, 38, 40, 42, 44, 46, 48, 50, 52, 54, 56, 58, 60, 62, 64, 66, 68, 70, 72, 74, 76, 78, 80, 82, 84, 86, 88, 90, 92, 94, 96, 98, 100, 102, 104, 106, 108, 110, 112, 114, 116, 118, 120, 122, 124, 126, 128, 130, 132, 134, 136, 138, 140, 142, 144, 146, 148, 150, 152, 154, 156, 158, 160, 162, 164, 166, 168, 170, 172, 174, 176, 178, 180, 182, 184, 186, 188, 190, 192, 194, 196, 198]\n"
          ]
        }
      ]
    },
    {
      "cell_type": "markdown",
      "source": [
        "**EXERCISE 2**\n",
        "\n",
        "Enumerate the 700 first natural numbers multiple of 3, using lambdas."
      ],
      "metadata": {
        "id": "wbpBzFznGvo2"
      }
    },
    {
      "cell_type": "code",
      "source": [
        "print(list(map(lambda x:3*x,range(0,700))))"
      ],
      "metadata": {
        "id": "2xD78RisG-E3",
        "outputId": "172faf89-683f-4518-f62e-c12ed25a8f04",
        "colab": {
          "base_uri": "https://localhost:8080/"
        }
      },
      "execution_count": null,
      "outputs": [
        {
          "output_type": "stream",
          "name": "stdout",
          "text": [
            "[0, 3, 6, 9, 12, 15, 18, 21, 24, 27, 30, 33, 36, 39, 42, 45, 48, 51, 54, 57, 60, 63, 66, 69, 72, 75, 78, 81, 84, 87, 90, 93, 96, 99, 102, 105, 108, 111, 114, 117, 120, 123, 126, 129, 132, 135, 138, 141, 144, 147, 150, 153, 156, 159, 162, 165, 168, 171, 174, 177, 180, 183, 186, 189, 192, 195, 198, 201, 204, 207, 210, 213, 216, 219, 222, 225, 228, 231, 234, 237, 240, 243, 246, 249, 252, 255, 258, 261, 264, 267, 270, 273, 276, 279, 282, 285, 288, 291, 294, 297, 300, 303, 306, 309, 312, 315, 318, 321, 324, 327, 330, 333, 336, 339, 342, 345, 348, 351, 354, 357, 360, 363, 366, 369, 372, 375, 378, 381, 384, 387, 390, 393, 396, 399, 402, 405, 408, 411, 414, 417, 420, 423, 426, 429, 432, 435, 438, 441, 444, 447, 450, 453, 456, 459, 462, 465, 468, 471, 474, 477, 480, 483, 486, 489, 492, 495, 498, 501, 504, 507, 510, 513, 516, 519, 522, 525, 528, 531, 534, 537, 540, 543, 546, 549, 552, 555, 558, 561, 564, 567, 570, 573, 576, 579, 582, 585, 588, 591, 594, 597, 600, 603, 606, 609, 612, 615, 618, 621, 624, 627, 630, 633, 636, 639, 642, 645, 648, 651, 654, 657, 660, 663, 666, 669, 672, 675, 678, 681, 684, 687, 690, 693, 696, 699, 702, 705, 708, 711, 714, 717, 720, 723, 726, 729, 732, 735, 738, 741, 744, 747, 750, 753, 756, 759, 762, 765, 768, 771, 774, 777, 780, 783, 786, 789, 792, 795, 798, 801, 804, 807, 810, 813, 816, 819, 822, 825, 828, 831, 834, 837, 840, 843, 846, 849, 852, 855, 858, 861, 864, 867, 870, 873, 876, 879, 882, 885, 888, 891, 894, 897, 900, 903, 906, 909, 912, 915, 918, 921, 924, 927, 930, 933, 936, 939, 942, 945, 948, 951, 954, 957, 960, 963, 966, 969, 972, 975, 978, 981, 984, 987, 990, 993, 996, 999, 1002, 1005, 1008, 1011, 1014, 1017, 1020, 1023, 1026, 1029, 1032, 1035, 1038, 1041, 1044, 1047, 1050, 1053, 1056, 1059, 1062, 1065, 1068, 1071, 1074, 1077, 1080, 1083, 1086, 1089, 1092, 1095, 1098, 1101, 1104, 1107, 1110, 1113, 1116, 1119, 1122, 1125, 1128, 1131, 1134, 1137, 1140, 1143, 1146, 1149, 1152, 1155, 1158, 1161, 1164, 1167, 1170, 1173, 1176, 1179, 1182, 1185, 1188, 1191, 1194, 1197, 1200, 1203, 1206, 1209, 1212, 1215, 1218, 1221, 1224, 1227, 1230, 1233, 1236, 1239, 1242, 1245, 1248, 1251, 1254, 1257, 1260, 1263, 1266, 1269, 1272, 1275, 1278, 1281, 1284, 1287, 1290, 1293, 1296, 1299, 1302, 1305, 1308, 1311, 1314, 1317, 1320, 1323, 1326, 1329, 1332, 1335, 1338, 1341, 1344, 1347, 1350, 1353, 1356, 1359, 1362, 1365, 1368, 1371, 1374, 1377, 1380, 1383, 1386, 1389, 1392, 1395, 1398, 1401, 1404, 1407, 1410, 1413, 1416, 1419, 1422, 1425, 1428, 1431, 1434, 1437, 1440, 1443, 1446, 1449, 1452, 1455, 1458, 1461, 1464, 1467, 1470, 1473, 1476, 1479, 1482, 1485, 1488, 1491, 1494, 1497, 1500, 1503, 1506, 1509, 1512, 1515, 1518, 1521, 1524, 1527, 1530, 1533, 1536, 1539, 1542, 1545, 1548, 1551, 1554, 1557, 1560, 1563, 1566, 1569, 1572, 1575, 1578, 1581, 1584, 1587, 1590, 1593, 1596, 1599, 1602, 1605, 1608, 1611, 1614, 1617, 1620, 1623, 1626, 1629, 1632, 1635, 1638, 1641, 1644, 1647, 1650, 1653, 1656, 1659, 1662, 1665, 1668, 1671, 1674, 1677, 1680, 1683, 1686, 1689, 1692, 1695, 1698, 1701, 1704, 1707, 1710, 1713, 1716, 1719, 1722, 1725, 1728, 1731, 1734, 1737, 1740, 1743, 1746, 1749, 1752, 1755, 1758, 1761, 1764, 1767, 1770, 1773, 1776, 1779, 1782, 1785, 1788, 1791, 1794, 1797, 1800, 1803, 1806, 1809, 1812, 1815, 1818, 1821, 1824, 1827, 1830, 1833, 1836, 1839, 1842, 1845, 1848, 1851, 1854, 1857, 1860, 1863, 1866, 1869, 1872, 1875, 1878, 1881, 1884, 1887, 1890, 1893, 1896, 1899, 1902, 1905, 1908, 1911, 1914, 1917, 1920, 1923, 1926, 1929, 1932, 1935, 1938, 1941, 1944, 1947, 1950, 1953, 1956, 1959, 1962, 1965, 1968, 1971, 1974, 1977, 1980, 1983, 1986, 1989, 1992, 1995, 1998, 2001, 2004, 2007, 2010, 2013, 2016, 2019, 2022, 2025, 2028, 2031, 2034, 2037, 2040, 2043, 2046, 2049, 2052, 2055, 2058, 2061, 2064, 2067, 2070, 2073, 2076, 2079, 2082, 2085, 2088, 2091, 2094, 2097]\n"
          ]
        }
      ]
    },
    {
      "cell_type": "markdown",
      "source": [
        "**EXERCISE 3**\n",
        "\n",
        "Booleans can be encoded as lambdas:\n",
        "\n",
        "* e_true = lambda x: lambda y: x\n",
        "* e_false = lambda x: lambda y: y\n",
        "\n",
        "Using these encodings, implement the operators **not**, **and** and **or** as lambdas."
      ],
      "metadata": {
        "id": "G54u_GaLMwUr"
      }
    },
    {
      "cell_type": "code",
      "source": [
        "TRUE = lambda x,y: x\n",
        "FALSE = lambda x,y: y"
      ],
      "metadata": {
        "id": "8GUmlQvgNU8y"
      },
      "execution_count": 8,
      "outputs": []
    },
    {
      "cell_type": "code",
      "source": [
        "#OPERACAO NOT\n",
        "NOT = lambda b: b(FALSE,TRUE)"
      ],
      "metadata": {
        "id": "8J6Tl80IE24x"
      },
      "execution_count": 9,
      "outputs": []
    },
    {
      "cell_type": "code",
      "source": [
        "assert NOT(TRUE)== FALSE\n",
        "assert NOT(FALSE)== TRUE"
      ],
      "metadata": {
        "id": "7dpwsRFIE9tp"
      },
      "execution_count": 12,
      "outputs": []
    },
    {
      "cell_type": "code",
      "source": [
        "#OPERACAO AND\n",
        "AND = lambda b1,b2: b1(b2,FALSE)"
      ],
      "metadata": {
        "id": "y5QqFTnIFtHI"
      },
      "execution_count": 13,
      "outputs": []
    },
    {
      "cell_type": "code",
      "source": [
        "assert AND(FALSE,FALSE)==FALSE\n",
        "assert AND(FALSE,TRUE)==FALSE\n",
        "assert AND(TRUE,FALSE)==FALSE\n",
        "assert AND(TRUE,TRUE)==TRUE"
      ],
      "metadata": {
        "id": "8C0nhiwpGi2R"
      },
      "execution_count": 16,
      "outputs": []
    },
    {
      "cell_type": "code",
      "source": [
        "#OPERACAO OR\n",
        "OR = lambda b1,b2: NOT(AND(NOT(b1),NOT(b2)))"
      ],
      "metadata": {
        "id": "XVK65DQhG9aw"
      },
      "execution_count": 21,
      "outputs": []
    },
    {
      "cell_type": "code",
      "source": [
        "assert OR(FALSE,FALSE)==FALSE\n",
        "assert OR(FALSE,TRUE)==TRUE\n",
        "assert OR(TRUE,FALSE)==TRUE\n",
        "assert OR(TRUE,TRUE)==TRUE"
      ],
      "metadata": {
        "id": "ukvX9-njHMUz"
      },
      "execution_count": 22,
      "outputs": []
    },
    {
      "cell_type": "markdown",
      "source": [
        "**LOGIC SPECIFICATION OF TYPES**\n",
        "\n",
        "In type theory, functions are terms. A lambda term looks like \"(λ variablename : type1 . term)\" and has type \"type1\n",
        "→type2\". The type \"type1\n",
        "→type2\" indicates that the lambda term is a function that takes a parameter of type \"type1\" and computes to a term of type \"type2\". The term inside the lambda term must be a value of \"type2\", assuming the variable has type \"type1\".\n",
        "\n",
        "An example of a lambda term is this function which doubles its argument:\n",
        "\n",
        "* (λ x : nat . (add x x)) : nat→nat\n",
        "\n",
        "The variable name is \"x\" and the variable has type \"nat\". The term \"(add x x)\" has type \"nat\", assuming \"x : nat\". Thus, the lambda term has type \"nat\n",
        "→nat\", which means if it is given a \"nat\" as an argument, it will compute to a \"nat\". Reduction (a.k.a. computation) is defined for lambda terms. When the function is applied (a.k.a. called), the argument is substituted for the parameter.\n",
        "\n",
        "Until now, Python does not support type annotations on lambdas. In this case, we have to use ordinary functions:"
      ],
      "metadata": {
        "id": "SMkQC_-UOJl5"
      }
    },
    {
      "cell_type": "code",
      "source": [
        "def add(x:int) -> int:\n",
        "    return x+x\n",
        "\n",
        "add(5)"
      ],
      "metadata": {
        "colab": {
          "base_uri": "https://localhost:8080/"
        },
        "id": "YCCB48ikPVff",
        "outputId": "14abd0a1-6941-4720-e7d4-c3888896b374"
      },
      "execution_count": null,
      "outputs": [
        {
          "output_type": "execute_result",
          "data": {
            "text/plain": [
              "10"
            ]
          },
          "metadata": {},
          "execution_count": 10
        }
      ]
    },
    {
      "cell_type": "markdown",
      "source": [
        "**EXERCISE 4**\n",
        "\n",
        "Repeat the previous exercises, but using Python type annotations now:"
      ],
      "metadata": {
        "id": "qxgxck-dUAwn"
      }
    },
    {
      "cell_type": "code",
      "source": [
        "def add(x:int,y:int)->int:\n",
        "  return x+y"
      ],
      "metadata": {
        "id": "DvOusVVvUV2k"
      },
      "execution_count": null,
      "outputs": []
    },
    {
      "cell_type": "markdown",
      "source": [
        "**HOMEWORK**"
      ],
      "metadata": {
        "id": "dKhhMm0TUZBY"
      }
    },
    {
      "cell_type": "markdown",
      "source": [
        "1. Consider the set of complex numbers C={a+bi}. Specify this set using lambdas e implement them in Python."
      ],
      "metadata": {
        "id": "GjKEsVVqUbjD"
      }
    },
    {
      "cell_type": "code",
      "source": [
        "COMPLEX = lambda a,b: (a,b)\n",
        "REAL = lambda c: c[0]\n",
        "IMAG = lambda c: c[1]"
      ],
      "metadata": {
        "id": "mwOJX-HLUvrm"
      },
      "execution_count": 25,
      "outputs": []
    },
    {
      "cell_type": "code",
      "source": [
        "REAL(COMPLEX(2,3))"
      ],
      "metadata": {
        "colab": {
          "base_uri": "https://localhost:8080/"
        },
        "id": "_pU4Q76uIuu-",
        "outputId": "438a1fbd-1713-4b70-fa51-f20e4fd7c8c0"
      },
      "execution_count": 26,
      "outputs": [
        {
          "output_type": "execute_result",
          "data": {
            "text/plain": [
              "2"
            ]
          },
          "metadata": {},
          "execution_count": 26
        }
      ]
    },
    {
      "cell_type": "code",
      "source": [
        "IMAG(COMPLEX(2,3))"
      ],
      "metadata": {
        "colab": {
          "base_uri": "https://localhost:8080/"
        },
        "id": "YeLGZUZ6I1K-",
        "outputId": "ecefdbe8-c0e4-4361-c73d-bea4d7b9f650"
      },
      "execution_count": 27,
      "outputs": [
        {
          "output_type": "execute_result",
          "data": {
            "text/plain": [
              "3"
            ]
          },
          "metadata": {},
          "execution_count": 27
        }
      ]
    },
    {
      "cell_type": "markdown",
      "source": [
        "2. Consider the set of quaternion numbers C={a+bi+cj+dk}. Specify this set using lambdas e implement them in Python."
      ],
      "metadata": {
        "id": "KCLkPIZxU2N3"
      }
    },
    {
      "cell_type": "code",
      "source": [
        "QUATERNION = lambda a,b,c,d: (a,b,c,d)"
      ],
      "metadata": {
        "id": "hOgnAQo6VCyN"
      },
      "execution_count": 28,
      "outputs": []
    }
  ]
}