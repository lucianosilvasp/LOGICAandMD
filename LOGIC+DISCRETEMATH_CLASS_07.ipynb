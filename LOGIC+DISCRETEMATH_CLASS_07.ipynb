{
  "nbformat": 4,
  "nbformat_minor": 0,
  "metadata": {
    "colab": {
      "provenance": [],
      "include_colab_link": true
    },
    "kernelspec": {
      "name": "python3",
      "display_name": "Python 3"
    },
    "language_info": {
      "name": "python"
    }
  },
  "cells": [
    {
      "cell_type": "markdown",
      "metadata": {
        "id": "view-in-github",
        "colab_type": "text"
      },
      "source": [
        "<a href=\"https://colab.research.google.com/github/lucianosilvasp/LOGICAandMD/blob/main/LOGIC%2BDISCRETEMATH_CLASS_07.ipynb\" target=\"_parent\"><img src=\"https://colab.research.google.com/assets/colab-badge.svg\" alt=\"Open In Colab\"/></a>"
      ]
    },
    {
      "cell_type": "markdown",
      "source": [
        "<div class=\"alert alert-block alert-info\">\n",
        "\n",
        "#**CLASS 07 - TYPE THEORY - PART I**\n",
        "**Learning Objectives:**\n",
        "*   CONCEPT OF TYPE\n",
        "*   LOGICAL SPECIFICATION OF TYPES\n",
        "*   PROGRAMMING WITH TYPES\n"
      ],
      "metadata": {
        "id": "33EEpDW7pOaO"
      }
    },
    {
      "cell_type": "markdown",
      "source": [
        "**THE CONCEPT OF TYPE**\n",
        "\n",
        "\n",
        "In mathematics, logic, and computer science, a type theory is the formal presentation of a specific type system, and in general type theory is the academic study of type systems. Some type theories serve as alternatives to set theory as a foundation of mathematics. Two influential type theories that were proposed as foundations are Alonzo Church's typed λ-calculus and Per Martin-Löf's intuitionistic type theory. Most computerized proof-writing systems use a type theory for their foundation. A common one is Thierry Coquand's Calculus of Inductive Constructions.\n",
        "\n",
        "Type theory was created to avoid a paradox in a mathematical foundation based on naive set theory and formal logic. Russell's paradox, which was discovered by Bertrand Russell, existed because a set could be defined using \"all possible sets\", which included itself. Between 1902 and 1908, Bertrand Russell proposed various \"theories of type\" to fix the problem. By 1908 Russell arrived at a \"ramified\" theory of types together with an \"axiom of reducibility\" both of which featured prominently in Whitehead and Russell's Principia Mathematica published between 1910 and 1913. This system avoided Russell's paradox by creating a hierarchy of types and then assigning each concrete mathematical entity to a type. Entities of a given type are built exclusively of subtypes of that type, thus preventing an entity from being defined using itself. Russell's theory of types ruled out the possibility of a set being a member of itself.\n",
        "\n",
        "Types were not always used in logic. There were other techniques to avoid Russell's paradox. Types did gain a hold when used with one particular logic, Alonzo Church's lambda calculus.\n",
        "\n",
        "The most famous early example is Church's simply typed lambda calculus. Church's theory of types helped the formal system avoid the Kleene–Rosser paradox that afflicted the original untyped lambda calculus. Church demonstrated that it could serve as a foundation of mathematics and it was referred to as a higher-order logic.\n",
        "\n",
        "The phrase \"type theory\" now generally refers to a typed system based around lambda calculus. One influential system is Per Martin-Löf's intuitionistic type theory, which was proposed as a foundation for constructive mathematics. Another is Thierry Coquand's calculus of constructions, which is used as the foundation by Coq, Lean, and other \"proof assistants\" (computerized proof writing programs). Type theories are an area of active research, as demonstrated by homotopy type theory.\n",
        "\n",
        "There are many type theories, which makes it difficult to produce a comprehensive taxonomy.\n",
        "\n",
        "\n"
      ],
      "metadata": {
        "id": "Hx-BYWNP94Jb"
      }
    },
    {
      "cell_type": "markdown",
      "source": [
        "**TERMS AND TYPES**\n",
        "\n",
        "In type theory, every term has a type. A term and its type are often written together as \"term : type\". A common type to include in a type theory is the Natural numbers, often written as $\\mathbb N$ or \"nat\". Another is Boolean logic values. So, some very simple terms with their types are:\n",
        "\n",
        "* 1 : nat\n",
        "* 42 : nat\n",
        "* true : bool\n",
        "\n",
        "Terms can be built out of other terms using function calls. In type theory, a function call is called \"function application\". Function application takes a term of a given type and results in a term of another given type. Function application is written \"function argument argument ...\", instead of the conventional \"function(argument,argument, ...)\". For natural numbers, it is possible to define a function called \"add\" that takes two natural numbers. Thus, some more terms with their types are:\n",
        "\n",
        "* add 0 0 : nat\n",
        "* add 2 3 : nat\n",
        "* add 1 (add 1 (add 1 0)) : nat\n",
        "\n",
        "In the last term, parentheses were added to indicate the order of operations. Technically, most type theories require the parentheses to be present for every operation, but, in practice, they are not written and authors assume readers can use precedence and associativity to know where they are. For similar ease, it is a common notation to write \"x+y\" instead of \"add x y\". So, the above terms might be rewritten as:\n",
        "\n",
        "* 0 + 0 : nat\n",
        "* 2 + 3 : nat\n",
        "* 1 + (1 + (1 + 0)) : nat\n",
        "\n",
        "Terms may also contain variables. Variables always have a type. So, assuming \"x\" and \"y\" are variables of type \"nat\", the following are also valid terms:\n",
        "\n",
        "* x : nat\n",
        "* x + 2 : nat\n",
        "* x + (x + y) : nat\n",
        "\n",
        "There are more types than \"nat\" and \"bool\". We have already seen the term \"add\", which is not a \"nat\", but a function that, when applied to two \"nat\"s, computes to a \"nat\"."
      ],
      "metadata": {
        "id": "M2l1-CiG8427"
      }
    },
    {
      "cell_type": "markdown",
      "source": [
        "**TERMS AND TYPES IN PYTHON**\n",
        "\n",
        "In 1928, Hilbert and Ackerman posed a challenge: devise an algorithm that takes as input a first-order logic statement and determines whether that statement is valid or not. Soon after, Alonzo Church, then Professor at the Department of Mathematics in Princeton, started working on this problem. His approach was to research the notion of “function” and create based on this notion a logical system that is sufficient for all of mathematics. Lambda calculus emerged out of this research, also with contributions from Church’s students Kleene and Rosser. This research led to Church’s 1936 paper showing that an algorithm as desired Hilbert and Ackerman’s does not exist. His solution was to formulate a term in Lambda Calculus and show that there is no way to determine whether that term has a closed form (more precisely 𝛽-normal form). About one year later, Turing published his paper, where he establish the same result but using different techniques that are based on “computing machines”, and proved that his and Church’s approach were equivalent.\n",
        "\n",
        "Church and Turing’s results are like two sides of a coin. Church’s result is all about abstraction offers a mathematical language in which computation can be expressed. Turing’s result is all about implementation: it convincingly describes how to implement computation.\n",
        "\n",
        "There are at least several ways to define the syntax of Lambda Calculus. Let 𝑉\n",
        " be a countable set 𝑉 of variables. We define the abstract syntax for lambda calculus inductively as follows. L is the least set of the terms that satisfy the following:\n",
        "\n",
        "* if 𝑥∈𝑉 then 𝑥∈L\n",
        "\n",
        "* if 𝑡1∈L and 𝑡2∈L then 𝑡1𝑡2∈L\n",
        "\n",
        "* if 𝑥∈𝑉 and 𝑡∈L then 𝜆𝑥.𝑡∈L\n",
        "\n",
        "L is the “least” set verifying the above properties. Each term in  is called a lambda term. Example lambda terms include\n",
        "\n",
        "* 𝑥\n",
        "* 𝜆𝑥.𝑥\n",
        "* 𝜆𝑥.𝑥 𝑦\n",
        "\n",
        "One of the key ideas in Church’s Lambda Calculus (and functional programming), as well as in mathematics, is that a function is an ordinary value, just like an integer, a string, or a list. For example, you can write in Python a lambda expression and bind to to a variable.\n"
      ],
      "metadata": {
        "id": "fNM8cbpO-iEG"
      }
    },
    {
      "cell_type": "code",
      "source": [
        "#ABSTRACTION\n",
        "add = lambda x, y: x + y\n",
        "print (add)"
      ],
      "metadata": {
        "colab": {
          "base_uri": "https://localhost:8080/"
        },
        "id": "j-vW25QSAofu",
        "outputId": "03bda3cb-13af-4495-a932-993f1e95965a"
      },
      "execution_count": null,
      "outputs": [
        {
          "output_type": "stream",
          "name": "stdout",
          "text": [
            "<function <lambda> at 0x7ff5cdd16790>\n"
          ]
        }
      ]
    },
    {
      "cell_type": "code",
      "source": [
        "#APPLICATION\n",
        "add(1,2)"
      ],
      "metadata": {
        "colab": {
          "base_uri": "https://localhost:8080/"
        },
        "id": "VhzIVvtEDWTz",
        "outputId": "4f18904f-8674-46ae-8339-1b4453d5c5f6"
      },
      "execution_count": null,
      "outputs": [
        {
          "output_type": "execute_result",
          "data": {
            "text/plain": [
              "3"
            ]
          },
          "metadata": {},
          "execution_count": 2
        }
      ]
    },
    {
      "cell_type": "markdown",
      "source": [
        "Function can also be applied partially, e.g., by passing only some of the arguments. For example, we might want to specialize the function add to an increment function that adds one to its argument. In Python, to do this, we can use the partial function from the functools package."
      ],
      "metadata": {
        "id": "26BDvHGCD8-e"
      }
    },
    {
      "cell_type": "code",
      "source": [
        "from functools import partial\n",
        "\n",
        "add = lambda x, y: x + y\n",
        "inc = partial (add, 1)   # inc x: x + 1\n",
        "print(inc)"
      ],
      "metadata": {
        "colab": {
          "base_uri": "https://localhost:8080/"
        },
        "id": "DPFu7MCaD9_c",
        "outputId": "f8e86c36-8d54-4f4a-a7df-729d9f6a9a68"
      },
      "execution_count": null,
      "outputs": [
        {
          "output_type": "stream",
          "name": "stdout",
          "text": [
            "functools.partial(<function <lambda> at 0x7ff5cdd164c0>, 1)\n"
          ]
        }
      ]
    },
    {
      "cell_type": "code",
      "source": [
        "inc(2)"
      ],
      "metadata": {
        "colab": {
          "base_uri": "https://localhost:8080/"
        },
        "id": "P1DBi4AwEjyg",
        "outputId": "4245df46-2b96-4864-a5c0-1b47779d6588"
      },
      "execution_count": null,
      "outputs": [
        {
          "output_type": "execute_result",
          "data": {
            "text/plain": [
              "3"
            ]
          },
          "metadata": {},
          "execution_count": 6
        }
      ]
    },
    {
      "cell_type": "markdown",
      "source": [
        "As an example, suppose that we have a sequence and we want to be able to map over that sequence to generate another sequence. To this end, we can imagine writing a function map that takes a function and a list and applies it to every element of the list. This function is easy to implement in Python like this\n",
        "\n",
        "lambda f, l: [f(x) for x in l]  \n",
        "\n",
        "\n",
        "Here is an example application of map where we increment every element of a sequence by one."
      ],
      "metadata": {
        "id": "hiNCViYiFIqM"
      }
    },
    {
      "cell_type": "code",
      "source": [
        "from functools import partial\n",
        "\n",
        "add = lambda x, y: x + y\n",
        "inc = partial (add, 1)\n",
        "map = lambda f, l: [f(x) for x in l]\n",
        "\n",
        "s = [0, 1, 2, 3]\n",
        "ss = map (inc, s)\n",
        "\n",
        "print (s)\n",
        "print(ss)"
      ],
      "metadata": {
        "colab": {
          "base_uri": "https://localhost:8080/"
        },
        "id": "gPpyHhE2FQ4t",
        "outputId": "b95da63d-678b-45a0-fff0-bc491d059e77"
      },
      "execution_count": null,
      "outputs": [
        {
          "output_type": "stream",
          "name": "stdout",
          "text": [
            "[0, 1, 2, 3]\n",
            "[1, 2, 3, 4]\n"
          ]
        }
      ]
    },
    {
      "cell_type": "markdown",
      "source": [
        "**EXERCISE 1**\n",
        "\n",
        "Enumerate the 100 first natural even numbers using lambdas."
      ],
      "metadata": {
        "id": "WpYfklSVF3Vw"
      }
    },
    {
      "cell_type": "code",
      "source": [
        "#IMPLEMENT YOUR CODE HERE\n"
      ],
      "metadata": {
        "id": "aFMFYSW-GACp"
      },
      "execution_count": null,
      "outputs": []
    },
    {
      "cell_type": "markdown",
      "source": [
        "**EXERCISE 2**\n",
        "\n",
        "Enumerate the 700 first natural numbers multiple of 3, using lambdas."
      ],
      "metadata": {
        "id": "wbpBzFznGvo2"
      }
    },
    {
      "cell_type": "code",
      "source": [
        "#IMPLEMENT YOUR CODE HERE"
      ],
      "metadata": {
        "id": "2xD78RisG-E3"
      },
      "execution_count": null,
      "outputs": []
    },
    {
      "cell_type": "markdown",
      "source": [
        "**EXERCISE 3**\n",
        "\n",
        "Booleans can be encoded as lambdas:\n",
        "\n",
        "* e_true = lambda x: lambda y: x\n",
        "* e_false = lambda x: lambda y: y\n",
        "\n",
        "Using these encodings, implement the operators **not**, **and** and **or** as lambdas."
      ],
      "metadata": {
        "id": "G54u_GaLMwUr"
      }
    },
    {
      "cell_type": "code",
      "source": [
        "#IMPLEMENT YOUR SOLUTION HERE"
      ],
      "metadata": {
        "id": "8GUmlQvgNU8y"
      },
      "execution_count": null,
      "outputs": []
    },
    {
      "cell_type": "markdown",
      "source": [
        "**LOGIC SPECIFICATION OF TYPES**\n",
        "\n",
        "In type theory, functions are terms. A lambda term looks like \"(λ variablename : type1 . term)\" and has type \"type1\n",
        "→type2\". The type \"type1\n",
        "→type2\" indicates that the lambda term is a function that takes a parameter of type \"type1\" and computes to a term of type \"type2\". The term inside the lambda term must be a value of \"type2\", assuming the variable has type \"type1\".\n",
        "\n",
        "An example of a lambda term is this function which doubles its argument:\n",
        "\n",
        "* (λ x : nat . (add x x)) : nat→nat\n",
        "\n",
        "The variable name is \"x\" and the variable has type \"nat\". The term \"(add x x)\" has type \"nat\", assuming \"x : nat\". Thus, the lambda term has type \"nat\n",
        "→nat\", which means if it is given a \"nat\" as an argument, it will compute to a \"nat\". Reduction (a.k.a. computation) is defined for lambda terms. When the function is applied (a.k.a. called), the argument is substituted for the parameter.\n",
        "\n",
        "Until now, Python does not support type annotations on lambdas. In this case, we have to use ordinary functions:"
      ],
      "metadata": {
        "id": "SMkQC_-UOJl5"
      }
    },
    {
      "cell_type": "code",
      "source": [
        "def add(x:int) -> int:\n",
        "    return x+x\n",
        "\n",
        "add(5)"
      ],
      "metadata": {
        "colab": {
          "base_uri": "https://localhost:8080/"
        },
        "id": "YCCB48ikPVff",
        "outputId": "a696f25c-f0d2-4825-87ec-1d34cfdb4510"
      },
      "execution_count": null,
      "outputs": [
        {
          "output_type": "execute_result",
          "data": {
            "text/plain": [
              "10"
            ]
          },
          "metadata": {},
          "execution_count": 13
        }
      ]
    },
    {
      "cell_type": "markdown",
      "source": [
        "**EXERCISE 4**\n",
        "\n",
        "Repeat the previous exercises, but using Python type annotations now:"
      ],
      "metadata": {
        "id": "qxgxck-dUAwn"
      }
    },
    {
      "cell_type": "code",
      "source": [
        "#TYPE YOUR IMPLEMENTATION HERE"
      ],
      "metadata": {
        "id": "DvOusVVvUV2k"
      },
      "execution_count": null,
      "outputs": []
    },
    {
      "cell_type": "markdown",
      "source": [
        "**HOMEWORK**"
      ],
      "metadata": {
        "id": "dKhhMm0TUZBY"
      }
    },
    {
      "cell_type": "markdown",
      "source": [
        "1. Consider the set of complex numbers C={a+bi}. Specify this set using lambdas e implement them in Python."
      ],
      "metadata": {
        "id": "GjKEsVVqUbjD"
      }
    },
    {
      "cell_type": "code",
      "source": [
        "#TYPE YOUR IMPLEMENTATION HERE"
      ],
      "metadata": {
        "id": "mwOJX-HLUvrm"
      },
      "execution_count": null,
      "outputs": []
    },
    {
      "cell_type": "markdown",
      "source": [
        "2. Consider the set of quaternion numbers C={a+bi+cj+dk}. Specify this set using lambdas e implement them in Python."
      ],
      "metadata": {
        "id": "KCLkPIZxU2N3"
      }
    },
    {
      "cell_type": "code",
      "source": [
        "#TYPE YOUR IMPLEMENTATION HERE"
      ],
      "metadata": {
        "id": "hOgnAQo6VCyN"
      },
      "execution_count": null,
      "outputs": []
    }
  ]
}