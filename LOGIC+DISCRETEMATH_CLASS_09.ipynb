{
  "nbformat": 4,
  "nbformat_minor": 0,
  "metadata": {
    "colab": {
      "provenance": [],
      "include_colab_link": true
    },
    "kernelspec": {
      "name": "python3",
      "display_name": "Python 3"
    },
    "language_info": {
      "name": "python"
    }
  },
  "cells": [
    {
      "cell_type": "markdown",
      "metadata": {
        "id": "view-in-github",
        "colab_type": "text"
      },
      "source": [
        "<a href=\"https://colab.research.google.com/github/lucianosilvasp/LOGICAandMD/blob/main/LOGIC%2BDISCRETEMATH_CLASS_09.ipynb\" target=\"_parent\"><img src=\"https://colab.research.google.com/assets/colab-badge.svg\" alt=\"Open In Colab\"/></a>"
      ]
    },
    {
      "cell_type": "markdown",
      "source": [
        "<div class=\"alert alert-block alert-info\">\n",
        "\n",
        "#**CLASS 14 - TYPE THEORY - PART IV**\n",
        "**Learning Objectives:**\n",
        "* RECURSIVE TYPES\n",
        "* IMPLEMENTATION OF RECURSIVE TYPES\n"
      ],
      "metadata": {
        "id": "33EEpDW7pOaO"
      }
    },
    {
      "cell_type": "markdown",
      "source": [
        "**RECURSIVE TYPES**\n",
        "\n",
        "In computer programming languages, a recursive data type (also known as a recursively-defined, inductively-defined or inductive data type) is a data type for values that may contain other values of the same type.\n",
        "\n",
        "An important application of recursion in computer science is in defining dynamic data structures such as Lists and Trees. Recursive data structures can dynamically grow to an arbitrarily large size in response to runtime requirements; in contrast, a static array's size requirements must be set at compile time. Sometimes the term \"inductive data type\" is used for algebraic data types which are not necessarily recursive.\n",
        "\n",
        "In type theory, a recursive type has the general form μα.T where the type variable α may appear in the type T and stands for the entire type itself. In type theory, we would say: nat=α+μα.1  where the two arms of the sum type represent the Zero and Succ data constructors. Zero takes no arguments (thus represented by the unit type) and Succ takes another Nat (thus another element of α+μα.1).\n",
        "\n",
        "Lets implement the recursive datatype nat in ML:\n",
        "\n"
      ],
      "metadata": {
        "id": "bR0VEroxclwf"
      }
    },
    {
      "cell_type": "code",
      "source": [
        "!apt-get install smlnj"
      ],
      "metadata": {
        "id": "rE8qcDaoKFQa"
      },
      "execution_count": null,
      "outputs": []
    },
    {
      "cell_type": "code",
      "source": [
        "%%writefile nat.sml\n",
        "\n",
        "datatype nat =   Zero\n",
        "               | Succ of nat\n",
        "\n",
        "val zero = Zero\n",
        "val one = Succ(zero)\n",
        "val two = Succ(one)"
      ],
      "metadata": {
        "colab": {
          "base_uri": "https://localhost:8080/"
        },
        "id": "XCYjoa2OKrC3",
        "outputId": "0b40b816-452c-4116-971f-d5f512f26fac"
      },
      "execution_count": null,
      "outputs": [
        {
          "output_type": "stream",
          "name": "stdout",
          "text": [
            "Overwriting nat.sml\n"
          ]
        }
      ]
    },
    {
      "cell_type": "code",
      "source": [
        "#ativação do interpretador ML\n",
        "#para usar o arquivo nat.sml, digite use nat.sml; <enter>\n",
        "\n",
        "!/usr/bin/sml"
      ],
      "metadata": {
        "colab": {
          "base_uri": "https://localhost:8080/"
        },
        "id": "bCFZmPj1K73X",
        "outputId": "076c941e-bea3-4d08-a6e1-d38402d79cbf"
      },
      "execution_count": null,
      "outputs": [
        {
          "output_type": "stream",
          "name": "stdout",
          "text": [
            "Standard ML of New Jersey v110.79 [built: Sat Oct 26 12:27:04 2019]\n",
            "- use \"nat.sml\";\n",
            "[opening nat.sml]\n",
            "datatype nat = Succ of nat | Zero\n",
            "val zero = Zero : nat\n",
            "val one = Succ Zero : nat\n",
            "val two = Succ (Succ Zero) : nat\n",
            "val it = () : unit\n",
            "- \n",
            "Interrupt\n",
            "- \n",
            "Interrupt\n",
            "- "
          ]
        }
      ]
    },
    {
      "cell_type": "markdown",
      "source": [
        "You can operate with this new datatype using functions:\n"
      ],
      "metadata": {
        "id": "aS17z3R7f-WI"
      }
    },
    {
      "cell_type": "code",
      "source": [
        "%%writefile nat.sml\n",
        "\n",
        "datatype nat =   Zero\n",
        "               | Succ of nat\n",
        "\n",
        "\n",
        "fun iszero(n : nat) : bool =\n",
        "  case n of\n",
        "            Zero    => true\n",
        "          | Succ(m) => false\n",
        "\n",
        "\n",
        "fun pred(n : nat) : nat =\n",
        "  case n of\n",
        "             Zero => raise Fail \"predecessor on zero\"\n",
        "           | Succ(m) => m\n",
        "\n",
        "\n",
        "fun add(n1:nat, n2:nat) : nat =\n",
        "  case n1 of\n",
        "              Zero => n2\n",
        "              Succ(n_minus_1) => add(n_minus_1, Succ(n2))\n",
        "\n",
        "\n",
        "fun mul(n1:nat, n2:nat) : nat =\n",
        "  case n1 of\n",
        "              Zero => Zero\n",
        "            | Succ(n1MinusOne) => add(n2, mul(n1MinusOne,n2))"
      ],
      "metadata": {
        "id": "i8gas5g7gF36"
      },
      "execution_count": null,
      "outputs": []
    },
    {
      "cell_type": "code",
      "source": [
        "!/usr/bin/sml"
      ],
      "metadata": {
        "id": "gAYHTr48hDGC"
      },
      "execution_count": null,
      "outputs": []
    },
    {
      "cell_type": "markdown",
      "source": [
        "**EXERCISE 1**\n",
        "\n",
        "Define the factorial datatype in a recursive way:\n",
        "\n",
        "0! = 1\n",
        "\n",
        "n! = n*(n-1)!"
      ],
      "metadata": {
        "id": "gVF7a96kfBep"
      }
    },
    {
      "cell_type": "code",
      "source": [
        "#IMPLEMENTATION HERE"
      ],
      "metadata": {
        "id": "7fuw6peifXKD"
      },
      "execution_count": null,
      "outputs": []
    },
    {
      "cell_type": "markdown",
      "source": [
        "**EXERCISE 2**\n",
        "\n",
        "Define the fibonacci datatype in a recursive way:\n",
        "\n",
        "1,1,2,3,5,8,...\n",
        "\n"
      ],
      "metadata": {
        "id": "muap-KCUfbaf"
      }
    },
    {
      "cell_type": "code",
      "source": [
        "#IMPLEMENTATION HERE"
      ],
      "metadata": {
        "id": "WDIoxa18frJq"
      },
      "execution_count": null,
      "outputs": []
    },
    {
      "cell_type": "markdown",
      "source": [
        "**RECURSIVE DATATYPE LIST**\n",
        "\n",
        "We can write our own version of lists using datatypes. Suppose we want to define values that act like linked lists of integers. A linked list is either empty, or it has an integer followed by another list containing the rest of the list elements. This leads to a very natural datatype declaration:\n",
        "\n"
      ],
      "metadata": {
        "id": "9y5JwZzlhV6D"
      }
    },
    {
      "cell_type": "code",
      "source": [
        "%%writefile list.sml\n",
        "\n",
        "datatype intlist =  Nil\n",
        "                  | Cons of (int * intlist)\n",
        "\n",
        "val list1 = Nil \t\t            (* the empty list:  []*)\n",
        "val list2 = Cons(1,Nil) \t      (* the list containing just 1:  [1] *)\n",
        "val list3 = Cons(2,Cons(1,Nil)) (* the list [2,1] *)\n",
        "val list4 = Cons(2,list2)       (* also the list [2,1] *)\n",
        "\n",
        "fun length(lst: intlist): int =\n",
        "  case lst of\n",
        "              Nil => 0\n",
        "              Cons(h,t) => 1 + length(t)"
      ],
      "metadata": {
        "id": "p5JnDGphhhPM"
      },
      "execution_count": null,
      "outputs": []
    },
    {
      "cell_type": "markdown",
      "source": [
        "**EXERCISE 3**\n",
        "\n",
        "Implement the recursive function addall to sum all numbers of one list L."
      ],
      "metadata": {
        "id": "7BlqvgBCiPHh"
      }
    },
    {
      "cell_type": "code",
      "source": [
        "#IMPLEMENTATION HERE"
      ],
      "metadata": {
        "id": "rC3O3fNoifbh"
      },
      "execution_count": null,
      "outputs": []
    },
    {
      "cell_type": "markdown",
      "source": [
        "**EXERCICIO 4**\n",
        "\n",
        "Implement the recursive function last to retrieve the last element of a list. If such element does not exist, raise an exception."
      ],
      "metadata": {
        "id": "KgDIn3xSitQV"
      }
    },
    {
      "cell_type": "code",
      "source": [
        "#IMPLEMENTATION HERE"
      ],
      "metadata": {
        "id": "OYRifjbRjDMK"
      },
      "execution_count": null,
      "outputs": []
    },
    {
      "cell_type": "markdown",
      "source": [
        "**RECURSIVE DATATYPE TREE**\n",
        "\n",
        "Trees are another very useful data structure, and unlike lists, they are not built into SML. A binary tree is a node containing a value and two children that are trees. A binary tree can also be an empty tree, which we also use to represent the absence of a child node. We can write this down directly as a datatype:"
      ],
      "metadata": {
        "id": "cEnlzmXnjHSL"
      }
    },
    {
      "cell_type": "code",
      "source": [
        "%%writefile tree.sml\n",
        "\n",
        "datatype inttree = Empty\n",
        "                   | Node of { value: int, left: inttree, right: inttree }\n",
        "\n",
        "tree= Node {value = 2,\n",
        "            left = Node {value=1, left = Empty, right = Empty},\n",
        "            right= Node {value=3, left = Empty, right = Empty}}"
      ],
      "metadata": {
        "id": "NZTday3vjTLF"
      },
      "execution_count": null,
      "outputs": []
    },
    {
      "cell_type": "code",
      "source": [
        "!/usr/bin/sml"
      ],
      "metadata": {
        "id": "CptXKkHdkHqu"
      },
      "execution_count": null,
      "outputs": []
    },
    {
      "cell_type": "markdown",
      "source": [
        "For search an element x"
      ],
      "metadata": {
        "id": "qkU_efz7kXOz"
      }
    },
    {
      "cell_type": "code",
      "source": [
        "%%writefile tree.sml\n",
        "\n",
        "datatype inttree = Empty\n",
        "                   | Node of { value: int, left: inttree, right: inttree }\n",
        "\n",
        "\n",
        "fun search(t: inttree, x:int): bool =\n",
        "  case t of\n",
        "              Empty => false\n",
        "            | Node {value, left, right} => (value = x) orelse search(left, x)\n",
        "                                                       orelse search(right, x)"
      ],
      "metadata": {
        "id": "LcJL5SEGkcSN"
      },
      "execution_count": null,
      "outputs": []
    },
    {
      "cell_type": "code",
      "source": [
        "!/usr/bin/sml"
      ],
      "metadata": {
        "id": "_3_0ABl4k6zx"
      },
      "execution_count": null,
      "outputs": []
    },
    {
      "cell_type": "markdown",
      "source": [
        "**EXERCICIO 5**\n",
        "\n",
        "Implement the recursive function last to retrieve the the **rightmost** element in a tree. If such element does not exist, raise an exception."
      ],
      "metadata": {
        "id": "DoNWlCuAlDup"
      }
    },
    {
      "cell_type": "code",
      "source": [
        "#IMPLEMENT HERE"
      ],
      "metadata": {
        "id": "T5dP2NQ6lVi-"
      },
      "execution_count": null,
      "outputs": []
    },
    {
      "cell_type": "markdown",
      "source": [
        "**HOMEWORK**"
      ],
      "metadata": {
        "id": "CUES-T0ilXzX"
      }
    },
    {
      "cell_type": "markdown",
      "source": [
        "**EXERCISE 1**\n",
        "\n",
        "Rewrite the List implementation to use Node instad of using Cons."
      ],
      "metadata": {
        "id": "1H2kcHw4lbtS"
      }
    },
    {
      "cell_type": "code",
      "source": [
        "#IMPLEMENTATION HERE"
      ],
      "metadata": {
        "id": "jnpRFMuEln2p"
      },
      "execution_count": null,
      "outputs": []
    },
    {
      "cell_type": "markdown",
      "source": [
        "**EXERCISE 2**\n",
        "\n",
        "Implement the recursive function list to transform of a tree T to a list L."
      ],
      "metadata": {
        "id": "y7YQePBAlrNJ"
      }
    },
    {
      "cell_type": "code",
      "source": [
        "#IMPLEMENTATION HERE"
      ],
      "metadata": {
        "id": "5573E2hql_Cs"
      },
      "execution_count": null,
      "outputs": []
    }
  ]
}