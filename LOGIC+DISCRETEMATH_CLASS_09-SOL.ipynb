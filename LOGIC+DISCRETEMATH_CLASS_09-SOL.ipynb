{
  "nbformat": 4,
  "nbformat_minor": 0,
  "metadata": {
    "colab": {
      "provenance": [],
      "include_colab_link": true
    },
    "kernelspec": {
      "name": "python3",
      "display_name": "Python 3"
    },
    "language_info": {
      "name": "python"
    }
  },
  "cells": [
    {
      "cell_type": "markdown",
      "metadata": {
        "id": "view-in-github",
        "colab_type": "text"
      },
      "source": [
        "<a href=\"https://colab.research.google.com/github/lucianosilvasp/LOGICAandMD/blob/main/LOGIC%2BDISCRETEMATH_CLASS_09-SOL.ipynb\" target=\"_parent\"><img src=\"https://colab.research.google.com/assets/colab-badge.svg\" alt=\"Open In Colab\"/></a>"
      ]
    },
    {
      "cell_type": "markdown",
      "source": [
        "<div class=\"alert alert-block alert-info\">\n",
        "\n",
        "#**CLASS 09 - TYPE THEORY - PART III**\n",
        "**Learning Objectives:**\n",
        "* RECURSIVE TYPES\n",
        "* IMPLEMENTATION OF RECURSIVE TYPES\n"
      ],
      "metadata": {
        "id": "33EEpDW7pOaO"
      }
    },
    {
      "cell_type": "markdown",
      "source": [
        "**RECURSIVE TYPES**\n",
        "\n",
        "In computer programming languages, a recursive data type (also known as a recursively-defined, inductively-defined or inductive data type) is a data type for values that may contain other values of the same type.\n",
        "\n",
        "An important application of recursion in computer science is in defining dynamic data structures such as Lists and Trees. Recursive data structures can dynamically grow to an arbitrarily large size in response to runtime requirements; in contrast, a static array's size requirements must be set at compile time. Sometimes the term \"inductive data type\" is used for algebraic data types which are not necessarily recursive.\n",
        "\n",
        "In type theory, a recursive type has the general form μα.T where the type variable α may appear in the type T and stands for the entire type itself. In type theory, we would say: nat=α+μα.1  where the two arms of the sum type represent the Zero and Succ data constructors. Zero takes no arguments (thus represented by the unit type) and Succ takes another Nat (thus another element of α+μα.1).\n",
        "\n",
        "Lets implement the recursive datatype nat in ML:\n",
        "\n"
      ],
      "metadata": {
        "id": "bR0VEroxclwf"
      }
    },
    {
      "cell_type": "code",
      "source": [
        "!apt-get install smlnj"
      ],
      "metadata": {
        "id": "rE8qcDaoKFQa",
        "outputId": "ba5f06f5-5868-4b2d-836e-6b3775f58bc2",
        "colab": {
          "base_uri": "https://localhost:8080/"
        }
      },
      "execution_count": 3,
      "outputs": [
        {
          "output_type": "stream",
          "name": "stdout",
          "text": [
            "Reading package lists... Done\n",
            "Building dependency tree... Done\n",
            "Reading state information... Done\n",
            "The following additional packages will be installed:\n",
            "  libsmlnj-smlnj smlnj-runtime\n",
            "Suggested packages:\n",
            "  smlnj-doc\n",
            "The following NEW packages will be installed:\n",
            "  libsmlnj-smlnj smlnj smlnj-runtime\n",
            "0 upgraded, 3 newly installed, 0 to remove and 45 not upgraded.\n",
            "Need to get 6,398 kB of archives.\n",
            "After this operation, 28.0 MB of additional disk space will be used.\n",
            "Get:1 http://archive.ubuntu.com/ubuntu jammy/universe amd64 smlnj-runtime amd64 110.79-6 [129 kB]\n",
            "Get:2 http://archive.ubuntu.com/ubuntu jammy/universe amd64 smlnj amd64 110.79-6 [5,788 kB]\n",
            "Get:3 http://archive.ubuntu.com/ubuntu jammy/universe amd64 libsmlnj-smlnj amd64 110.79-6 [481 kB]\n",
            "Fetched 6,398 kB in 1s (7,038 kB/s)\n",
            "Selecting previously unselected package smlnj-runtime.\n",
            "(Reading database ... 121752 files and directories currently installed.)\n",
            "Preparing to unpack .../smlnj-runtime_110.79-6_amd64.deb ...\n",
            "Unpacking smlnj-runtime (110.79-6) ...\n",
            "Selecting previously unselected package smlnj.\n",
            "Preparing to unpack .../smlnj_110.79-6_amd64.deb ...\n",
            "Unpacking smlnj (110.79-6) ...\n",
            "Selecting previously unselected package libsmlnj-smlnj.\n",
            "Preparing to unpack .../libsmlnj-smlnj_110.79-6_amd64.deb ...\n",
            "Unpacking libsmlnj-smlnj (110.79-6) ...\n",
            "Setting up smlnj-runtime (110.79-6) ...\n",
            "Setting up smlnj (110.79-6) ...\n",
            "Setting up libsmlnj-smlnj (110.79-6) ...\n",
            "Processing triggers for man-db (2.10.2-1) ...\n"
          ]
        }
      ]
    },
    {
      "cell_type": "code",
      "source": [
        "%%writefile nat.sml\n",
        "\n",
        "datatype nat =   zero\n",
        "               | succ of nat\n",
        "\n",
        "val one = succ(zero)\n",
        "val two = succ(one)"
      ],
      "metadata": {
        "id": "XCYjoa2OKrC3",
        "outputId": "77a5c5c0-0581-436b-9f75-5e807ca5ff27",
        "colab": {
          "base_uri": "https://localhost:8080/"
        }
      },
      "execution_count": null,
      "outputs": [
        {
          "output_type": "stream",
          "name": "stdout",
          "text": [
            "Overwriting nat.sml\n"
          ]
        }
      ]
    },
    {
      "cell_type": "code",
      "source": [
        "#ativação do interpretador ML\n",
        "#para usar o arquivo nat.sml, digite use \"nat.sml\"; <enter>\n",
        "\n",
        "!/usr/bin/sml"
      ],
      "metadata": {
        "id": "bCFZmPj1K73X",
        "outputId": "e8dc68e7-ecf8-44e5-afb7-98375713f333",
        "colab": {
          "base_uri": "https://localhost:8080/"
        }
      },
      "execution_count": null,
      "outputs": [
        {
          "output_type": "stream",
          "name": "stdout",
          "text": [
            "Standard ML of New Jersey v110.79 [built: Sat Oct 26 12:27:04 2019]\n",
            "- use \"nat.sml\";\n",
            "[opening nat.sml]\n",
            "datatype nat = succ of nat | zero\n",
            "val one = succ zero : nat\n",
            "val two = succ (succ zero) : nat\n",
            "val it = () : unit\n",
            "- val three = succ(two)\n",
            "= val three = succ(two);\n",
            "val three = <hidden-value> : nat\n",
            "val three = succ (succ (succ zero)) : nat\n",
            "- \n",
            "Interrupt\n",
            "- \n",
            "Interrupt\n",
            "- /usr/lib/smlnj/bin/sml: Fatal error -- Uncaught exception Io with <unknown> raised at Basis/Implementation/IO/text-io-fn.sml:443.14-443.56\n",
            "\n"
          ]
        }
      ]
    },
    {
      "cell_type": "markdown",
      "source": [
        "You can operate with this new datatype using functions:\n"
      ],
      "metadata": {
        "id": "aS17z3R7f-WI"
      }
    },
    {
      "cell_type": "code",
      "source": [
        "%%writefile nat.sml\n",
        "\n",
        "datatype nat =   zero\n",
        "               | succ of nat\n",
        "\n",
        "\n",
        "fun iszero(n : nat) : bool =\n",
        "  case n of\n",
        "            zero    => true\n",
        "          | succ(m) => false\n",
        "\n",
        "\n",
        "fun add(n1:nat, n2:nat) : nat =\n",
        "  case n1 of\n",
        "              zero => n2\n",
        "            | succ(n) => add(n, succ(n2))\n",
        "\n",
        "\n",
        "fun mul(n1:nat, n2:nat) : nat =\n",
        "  case n1 of\n",
        "              zero => zero\n",
        "            | succ(n) => add(n2, mul(n,n2))"
      ],
      "metadata": {
        "id": "i8gas5g7gF36",
        "outputId": "b861c715-1ca3-4429-adff-f4848251f140",
        "colab": {
          "base_uri": "https://localhost:8080/"
        }
      },
      "execution_count": null,
      "outputs": [
        {
          "output_type": "stream",
          "name": "stdout",
          "text": [
            "Overwriting nat.sml\n"
          ]
        }
      ]
    },
    {
      "cell_type": "code",
      "source": [
        "!/usr/bin/sml"
      ],
      "metadata": {
        "id": "gAYHTr48hDGC",
        "outputId": "0562ff8c-1b8d-4a9d-acb3-16cd3e560473",
        "colab": {
          "base_uri": "https://localhost:8080/"
        }
      },
      "execution_count": null,
      "outputs": [
        {
          "output_type": "stream",
          "name": "stdout",
          "text": [
            "Standard ML of New Jersey v110.79 [built: Sat Oct 26 12:27:04 2019]\n",
            "- use \"nat.sml\";\n",
            "[opening nat.sml]\n",
            "datatype nat = succ of nat | zero\n",
            "val iszero = fn : nat -> bool\n",
            "val add = fn : nat * nat -> nat\n",
            "val mul = fn : nat * nat -> nat\n",
            "val it = () : unit\n",
            "- iszero(zero);\n",
            "val it = true : bool\n",
            "- val um = succ(zero);\n",
            "val um = succ zero : nat\n",
            "- iszero(um);\n",
            "val it = false : bool\n",
            "- add(zero,um);\n",
            "val it = succ zero : nat\n",
            "- mul(zero,um);\n",
            "val it = zero : nat\n",
            "- \n",
            "Interrupt\n",
            "- \n",
            "Interrupt\n",
            "- "
          ]
        }
      ]
    },
    {
      "cell_type": "markdown",
      "source": [
        "**EXERCISE 1**\n",
        "\n",
        "Define the factorial operation in a recursive way:\n",
        "\n",
        "0! = 1\n",
        "\n",
        "n! = n*(n-1)!"
      ],
      "metadata": {
        "id": "gVF7a96kfBep"
      }
    },
    {
      "cell_type": "code",
      "source": [
        "%%writefile nat.sml\n",
        "\n",
        "datatype nat =   zero\n",
        "               | succ of nat\n",
        "\n",
        "\n",
        "fun iszero(n : nat) : bool =\n",
        "  case n of\n",
        "            zero    => true\n",
        "          | succ(m) => false\n",
        "\n",
        "\n",
        "fun add(n1:nat, n2:nat) : nat =\n",
        "  case n1 of\n",
        "              zero => n2\n",
        "            | succ(n) => add(n, succ(n2))\n",
        "\n",
        "\n",
        "fun mul(n1:nat, n2:nat) : nat =\n",
        "  case n1 of\n",
        "              zero => zero\n",
        "            | succ(n) => add(n2, mul(n,n2))\n",
        "\n",
        "\n",
        "fun fact(n1:nat) : nat =\n",
        "  case n1 of\n",
        "              zero => succ(zero)\n",
        "            | succ(n) => mul(succ(n),fact(n))\n"
      ],
      "metadata": {
        "id": "7fuw6peifXKD",
        "outputId": "d3abc443-8972-4d4c-814d-6b06bdcfa38a",
        "colab": {
          "base_uri": "https://localhost:8080/"
        }
      },
      "execution_count": null,
      "outputs": [
        {
          "output_type": "stream",
          "name": "stdout",
          "text": [
            "Overwriting nat.sml\n"
          ]
        }
      ]
    },
    {
      "cell_type": "code",
      "source": [
        "!/usr/bin/sml"
      ],
      "metadata": {
        "id": "fjjHzbnn-zte",
        "outputId": "56ca0cee-4cd8-4c69-8b8e-bf492c1bcb52",
        "colab": {
          "base_uri": "https://localhost:8080/"
        }
      },
      "execution_count": null,
      "outputs": [
        {
          "metadata": {
            "tags": null
          },
          "name": "stdout",
          "output_type": "stream",
          "text": [
            "Standard ML of New Jersey v110.79 [built: Sat Oct 26 12:27:04 2019]\n",
            "- use \"nat.sml\";\n",
            "[opening nat.sml]\n",
            "datatype nat = succ of nat | zero\n",
            "val iszero = fn : nat -> bool\n",
            "val add = fn : nat * nat -> nat\n",
            "val mul = fn : nat * nat -> nat\n",
            "val fact = fn : nat -> nat\n",
            "val it = () : unit\n",
            "- fact(zero);\n",
            "val it = succ zero : nat\n",
            "- val dois = succ(succ(zero));\n",
            "val dois = succ (succ zero) : nat\n",
            "- fact(dois);\n",
            "val it = succ (succ zero) : nat\n",
            "- val quatro = mul(dois,dois);\n",
            "val quatro = succ (succ (succ (succ zero))) : nat\n",
            "- fact(quatro);\n",
            "val it = succ (succ (succ (succ (succ #)))) : nat\n",
            "- "
          ]
        }
      ]
    },
    {
      "cell_type": "markdown",
      "source": [
        "**RECURSIVE DATATYPE LIST**\n",
        "\n",
        "We can write our own version of lists using datatypes. Suppose we want to define values that act like linked lists of integers. A linked list is either empty, or it has an integer followed by another list containing the rest of the list elements. This leads to a very natural datatype declaration:\n",
        "\n"
      ],
      "metadata": {
        "id": "9y5JwZzlhV6D"
      }
    },
    {
      "cell_type": "code",
      "source": [
        "%%writefile list.sml\n",
        "\n",
        "datatype intlist =  nil\n",
        "                  | cons of (int * intlist)\n",
        "\n",
        "val list1 = nil \t\t            (* the empty list:  []*)\n",
        "val list2 = cons(1,nil) \t      (* the list containing just 1:  [1] *)\n",
        "val list3 = cons(2,cons(1,nil)) (* the list [2,1] *)\n",
        "val list4 = cons(2,list2)       (* also the list [2,1] *)\n",
        "\n",
        "fun length(lst: intlist): int =\n",
        "  case lst of\n",
        "              nil => 0\n",
        "            | cons(h,t) => 1 + length(t)"
      ],
      "metadata": {
        "id": "p5JnDGphhhPM",
        "colab": {
          "base_uri": "https://localhost:8080/"
        },
        "outputId": "a7576275-45d4-44d9-9201-16dd0aa443ba"
      },
      "execution_count": null,
      "outputs": [
        {
          "output_type": "stream",
          "name": "stdout",
          "text": [
            "Overwriting list.sml\n"
          ]
        }
      ]
    },
    {
      "cell_type": "code",
      "source": [
        "!/usr/bin/sml"
      ],
      "metadata": {
        "id": "d6U5LnVykW1Y",
        "outputId": "d69ae52f-9a8b-4353-a833-afcefcadf36f",
        "colab": {
          "base_uri": "https://localhost:8080/"
        }
      },
      "execution_count": null,
      "outputs": [
        {
          "output_type": "stream",
          "name": "stdout",
          "text": [
            "Standard ML of New Jersey v110.79 [built: Sat Oct 26 12:27:04 2019]\n",
            "- use \"list.sml\";\n",
            "[opening list.sml]\n",
            "datatype intlist = cons of int * intlist | nil\n",
            "val list1 = nil : intlist\n",
            "val list2 = cons (1,nil) : intlist\n",
            "val list3 = cons (2,cons (1,nil)) : intlist\n",
            "val list4 = cons (2,cons (1,nil)) : intlist\n",
            "val length = fn : intlist -> int\n",
            "val it = () : unit\n",
            "- \n",
            "Interrupt\n",
            "- \n",
            "Interrupt\n",
            "- "
          ]
        }
      ]
    },
    {
      "cell_type": "markdown",
      "source": [
        "**EXERCISE 3**\n",
        "\n",
        "Implement the recursive function addall to sum all numbers of one list L."
      ],
      "metadata": {
        "id": "7BlqvgBCiPHh"
      }
    },
    {
      "cell_type": "code",
      "source": [
        "%%writefile list.sml\n",
        "\n",
        "datatype intlist =  nil\n",
        "                  | cons of (int * intlist)\n",
        "\n",
        "val list1 = nil \t\t            (* the empty list:  []*)\n",
        "val list2 = cons(1,nil) \t      (* the list containing just 1:  [1] *)\n",
        "val list3 = cons(2,cons(1,nil)) (* the list [2,1] *)\n",
        "val list4 = cons(2,list2)       (* also the list [2,1] *)\n",
        "\n",
        "fun length(lst: intlist): int =\n",
        "  case lst of\n",
        "              nil => 0\n",
        "            | cons(h,t) => 1 + length(t)\n",
        "\n",
        "fun addall(lst: intlist): int =\n",
        "  case lst of\n",
        "              nil => 0\n",
        "            | cons(h,t) => h + addall(t)"
      ],
      "metadata": {
        "id": "rC3O3fNoifbh",
        "colab": {
          "base_uri": "https://localhost:8080/"
        },
        "outputId": "797c8b97-04c6-4726-a2ef-447eee31f72d"
      },
      "execution_count": null,
      "outputs": [
        {
          "output_type": "stream",
          "name": "stdout",
          "text": [
            "Overwriting list.sml\n"
          ]
        }
      ]
    },
    {
      "cell_type": "code",
      "source": [
        "!/usr/bin/sml"
      ],
      "metadata": {
        "id": "bls45npHhz2l",
        "outputId": "3bb00b90-4b0a-4c06-bdfc-db4b3173c2ac",
        "colab": {
          "base_uri": "https://localhost:8080/"
        }
      },
      "execution_count": null,
      "outputs": [
        {
          "output_type": "stream",
          "name": "stdout",
          "text": [
            "Standard ML of New Jersey v110.79 [built: Sat Oct 26 12:27:04 2019]\n",
            "- use \"list.sml\";\n",
            "[opening list.sml]\n",
            "datatype intlist = cons of int * intlist | nil\n",
            "val list1 = nil : intlist\n",
            "val list2 = cons (1,nil) : intlist\n",
            "val list3 = cons (2,cons (1,nil)) : intlist\n",
            "val list4 = cons (2,cons (1,nil)) : intlist\n",
            "val length = fn : intlist -> int\n",
            "val addall = fn : intlist -> int\n",
            "val it = () : unit\n",
            "- addall(list4);\n",
            "val it = 3 : int\n",
            "- \n",
            "Interrupt\n",
            "- \n",
            "Interrupt\n",
            "- \n",
            "Interrupt\n",
            "- "
          ]
        }
      ]
    },
    {
      "cell_type": "markdown",
      "source": [
        "**RECURSIVE DATATYPE TREE**\n",
        "\n",
        "Trees are another very useful data structure, and unlike lists, they are not built into SML. A binary tree is a node containing a value and two children that are trees. A binary tree can also be an empty tree, which we also use to represent the absence of a child node. We can write this down directly as a datatype:"
      ],
      "metadata": {
        "id": "cEnlzmXnjHSL"
      }
    },
    {
      "cell_type": "code",
      "source": [
        "%%writefile tree.sml\n",
        "\n",
        "datatype inttree = empty\n",
        "                   | node of { value: int, left: inttree, right: inttree }\n",
        "\n",
        "tree= node {value = 2,\n",
        "            left = node {value=1, left = empty, right = empty},\n",
        "            right= node {value=3, left = empty, right = empty}}"
      ],
      "metadata": {
        "id": "NZTday3vjTLF"
      },
      "execution_count": null,
      "outputs": []
    },
    {
      "cell_type": "code",
      "source": [
        "!/usr/bin/sml"
      ],
      "metadata": {
        "id": "CptXKkHdkHqu"
      },
      "execution_count": null,
      "outputs": []
    },
    {
      "cell_type": "markdown",
      "source": [
        "For search an element x"
      ],
      "metadata": {
        "id": "qkU_efz7kXOz"
      }
    },
    {
      "cell_type": "code",
      "source": [
        "%%writefile tree.sml\n",
        "\n",
        "datatype inttree = empty\n",
        "                   | node of { value: int, left: inttree, right: inttree }\n",
        "\n",
        "\n",
        "fun search(t: inttree, x:int): bool =\n",
        "  case t of\n",
        "              empty => false\n",
        "            | node {value, left, right} => (value = x) orelse search(left, x)\n",
        "                                                       orelse search(right, x)"
      ],
      "metadata": {
        "id": "LcJL5SEGkcSN"
      },
      "execution_count": null,
      "outputs": []
    },
    {
      "cell_type": "code",
      "source": [
        "!/usr/bin/sml"
      ],
      "metadata": {
        "id": "_3_0ABl4k6zx"
      },
      "execution_count": null,
      "outputs": []
    },
    {
      "cell_type": "markdown",
      "source": [
        "**HOMEWORK**"
      ],
      "metadata": {
        "id": "CUES-T0ilXzX"
      }
    },
    {
      "cell_type": "markdown",
      "source": [
        "**EXERCISE 1**\n",
        "\n",
        "Rewrite the List implementation to use Node instad of using Cons."
      ],
      "metadata": {
        "id": "1H2kcHw4lbtS"
      }
    },
    {
      "cell_type": "code",
      "source": [
        "%%writefile list.sml\n",
        "\n",
        "datatype intlist =  empty\n",
        "                   | node of { value: int, left: intlist, right: intlist }\n",
        "\n",
        "val list = empty\n",
        "val list = node {value = 1, left = empty, right = list}\n",
        "val list = node {value = 2, left = empty, right = list}"
      ],
      "metadata": {
        "id": "jnpRFMuEln2p",
        "colab": {
          "base_uri": "https://localhost:8080/"
        },
        "outputId": "540b7ab2-879c-4e72-e1ee-77f9360a695a"
      },
      "execution_count": null,
      "outputs": [
        {
          "output_type": "stream",
          "name": "stdout",
          "text": [
            "Overwriting list.sml\n"
          ]
        }
      ]
    },
    {
      "cell_type": "code",
      "source": [
        "!/usr/bin/sml"
      ],
      "metadata": {
        "id": "s0hMsCNtfRkV",
        "outputId": "df87775b-90ca-423f-ad31-092b3e2ed311",
        "colab": {
          "base_uri": "https://localhost:8080/"
        }
      },
      "execution_count": null,
      "outputs": [
        {
          "output_type": "stream",
          "name": "stdout",
          "text": [
            "Standard ML of New Jersey v110.79 [built: Sat Oct 26 12:27:04 2019]\n",
            "- use \"list.sml\";\n",
            "[opening list.sml]\n",
            "datatype intlist = empty | node of {left:intlist, right:intlist, value:int}\n",
            "val list = <hidden-value> : intlist\n",
            "val list = <hidden-value> : intlist\n",
            "val list =\n",
            "  node {left=empty,right=node {left=empty,right=empty,value=1},value=2}\n",
            "  : intlist\n",
            "val it = () : unit\n",
            "- \n",
            "Interrupt\n",
            "- \n",
            "Interrupt\n",
            "- \n",
            "Interrupt\n",
            "- "
          ]
        }
      ]
    },
    {
      "cell_type": "markdown",
      "source": [
        "**EXERCISE 2**\n",
        "\n",
        "Define the fibonacci datatype in a recursive way:\n",
        "\n",
        "1,1,2,3,5,8,..."
      ],
      "metadata": {
        "id": "3H1F5wsTFJmF"
      }
    },
    {
      "cell_type": "code",
      "source": [
        "%%writefile fib.sml\n",
        "\n",
        "  fun fib 0 = 1\n",
        "    | fib 1 = 1\n",
        "    | fib n = (fib (n-1)) + (fib (n-2))\n"
      ],
      "metadata": {
        "id": "V0L449eDVGuS",
        "colab": {
          "base_uri": "https://localhost:8080/"
        },
        "outputId": "a0242492-5e15-43dd-8de2-34488ff02979"
      },
      "execution_count": null,
      "outputs": [
        {
          "output_type": "stream",
          "name": "stdout",
          "text": [
            "Overwriting fib.sml\n"
          ]
        }
      ]
    },
    {
      "cell_type": "code",
      "source": [
        "!/usr/bin/sml"
      ],
      "metadata": {
        "id": "2cyXWjWTWYHN"
      },
      "execution_count": null,
      "outputs": []
    },
    {
      "cell_type": "markdown",
      "source": [
        "**EXERCICIO 3**\n",
        "\n",
        "Implement the recursive function last to retrieve the last element of a list. If such element does not exist, raise an exception."
      ],
      "metadata": {
        "id": "n50q1LRxFT0i"
      }
    },
    {
      "cell_type": "code",
      "source": [
        "%%writefile list.sml\n",
        "\n",
        "datatype intlist =  nil\n",
        "                  | cons of (int * intlist)\n",
        "\n",
        "val list1 = nil \t\t            (* the empty list:  []*)\n",
        "val list2 = cons(1,nil) \t      (* the list containing just 1:  [1] *)\n",
        "val list3 = cons(2,cons(1,nil)) (* the list [2,1] *)\n",
        "val list4 = cons(2,list2)       (* also the list [2,1] *)\n",
        "\n",
        "fun length(lst: intlist): int =\n",
        "  case lst of\n",
        "              nil => 0\n",
        "            | cons(h,t) => 1 + length(t)\n",
        "\n",
        "fun addall(lst: intlist): int =\n",
        "  case lst of\n",
        "              nil => 0\n",
        "            | cons(h,t) => h + addall(t)\n",
        "\n",
        "fun last(lst: intlist): int =\n",
        "  case lst of\n",
        "            cons(h,nil) => h\n",
        "            | cons(h,t) => last(t)"
      ],
      "metadata": {
        "id": "mjjk6RhkFW4t",
        "outputId": "25136547-dbf3-46a6-d080-99ee538501ca",
        "colab": {
          "base_uri": "https://localhost:8080/"
        }
      },
      "execution_count": 8,
      "outputs": [
        {
          "output_type": "stream",
          "name": "stdout",
          "text": [
            "Overwriting list.sml\n"
          ]
        }
      ]
    },
    {
      "cell_type": "code",
      "source": [
        "!/usr/bin/sml"
      ],
      "metadata": {
        "id": "EC2xyIL8rsuz",
        "outputId": "9d65be59-6c14-40ba-a2b4-7d461cff4a3a",
        "colab": {
          "base_uri": "https://localhost:8080/"
        }
      },
      "execution_count": 9,
      "outputs": [
        {
          "output_type": "stream",
          "name": "stdout",
          "text": [
            "Standard ML of New Jersey v110.79 [built: Sat Oct 26 12:27:04 2019]\n",
            "- use \"list.sml\";\n",
            "[opening list.sml]\n",
            "list.sml:21.3-23.35 Warning: match nonexhaustive\n",
            "          cons (h,nil) => ...\n",
            "          cons (h,t) => ...\n",
            "  \n",
            "datatype intlist = cons of int * intlist | nil\n",
            "val list1 = nil : intlist\n",
            "val list2 = cons (1,nil) : intlist\n",
            "val list3 = cons (2,cons (1,nil)) : intlist\n",
            "val list4 = cons (2,cons (1,nil)) : intlist\n",
            "val length = fn : intlist -> int\n",
            "val addall = fn : intlist -> int\n",
            "val last = fn : intlist -> int\n",
            "val it = () : unit\n",
            "- last(list1);\n",
            "\n",
            "uncaught exception Match [nonexhaustive match failure]\n",
            "  raised at: list.sml:23.35\n",
            "- last(list2);\n",
            "val it = 1 : int\n",
            "- last(list3);\n",
            "val it = 1 : int\n",
            "- \n",
            "Interrupt\n",
            "- "
          ]
        }
      ]
    },
    {
      "cell_type": "markdown",
      "source": [
        "**EXERCISE 4**\n",
        "\n",
        "Implement the recursive function list to transform of a tree T to a list L."
      ],
      "metadata": {
        "id": "y7YQePBAlrNJ"
      }
    },
    {
      "cell_type": "code",
      "source": [
        "#IMPLEMENTATION HERE"
      ],
      "metadata": {
        "id": "5573E2hql_Cs"
      },
      "execution_count": null,
      "outputs": []
    },
    {
      "cell_type": "markdown",
      "source": [
        "**EXERCICIO 5**\n",
        "\n",
        "Implement the recursive function last to retrieve the the **rightmost** element in a tree. If such element does not exist, raise an exception."
      ],
      "metadata": {
        "id": "5yDjATHwFf8P"
      }
    },
    {
      "cell_type": "code",
      "source": [
        "#IMPLEMENTATION HERE"
      ],
      "metadata": {
        "id": "uXalozeKFhfu"
      },
      "execution_count": null,
      "outputs": []
    }
  ]
}